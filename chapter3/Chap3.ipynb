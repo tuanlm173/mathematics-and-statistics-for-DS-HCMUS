{
 "cells": [
  {
   "cell_type": "code",
   "execution_count": 1,
   "metadata": {
    "ExecuteTime": {
     "end_time": "2019-06-15T02:57:18.514137Z",
     "start_time": "2019-06-15T02:57:10.689291Z"
    }
   },
   "outputs": [],
   "source": [
    "import numpy as np\n",
    "import pandas as pd \n",
    "import matplotlib.pyplot as plt\n",
    "import seaborn as sns\n",
    "from sklearn.decomposition import PCA\n",
    "from sklearn.datasets import fetch_lfw_people"
   ]
  },
  {
   "cell_type": "markdown",
   "metadata": {},
   "source": [
    "## PCA method"
   ]
  },
  {
   "cell_type": "code",
   "execution_count": 2,
   "metadata": {
    "ExecuteTime": {
     "end_time": "2019-06-15T02:57:19.468348Z",
     "start_time": "2019-06-15T02:57:19.365074Z"
    }
   },
   "outputs": [
    {
     "data": {
      "text/plain": [
       "(3000, 3)"
      ]
     },
     "execution_count": 2,
     "metadata": {},
     "output_type": "execute_result"
    }
   ],
   "source": [
    "# Create a random matrix shape (3000,3), value from 1 to 255\n",
    "A = np.random.randint(1,256,(3000,3))\n",
    "A.shape"
   ]
  },
  {
   "cell_type": "code",
   "execution_count": 3,
   "metadata": {
    "ExecuteTime": {
     "end_time": "2019-06-15T02:57:20.712761Z",
     "start_time": "2019-06-15T02:57:20.707800Z"
    }
   },
   "outputs": [
    {
     "data": {
      "text/plain": [
       "array([[187,  40, 200],\n",
       "       [  2,  31,   5],\n",
       "       [248,  18,  21],\n",
       "       ...,\n",
       "       [241,  85, 234],\n",
       "       [ 36, 252, 254],\n",
       "       [223,  54,  61]])"
      ]
     },
     "execution_count": 3,
     "metadata": {},
     "output_type": "execute_result"
    }
   ],
   "source": [
    "A"
   ]
  },
  {
   "cell_type": "code",
   "execution_count": 4,
   "metadata": {
    "ExecuteTime": {
     "end_time": "2019-06-15T02:57:21.867025Z",
     "start_time": "2019-06-15T02:57:21.860017Z"
    }
   },
   "outputs": [
    {
     "data": {
      "text/plain": [
       "array([[  60.34333333,  -88.41333333,   69.172     ],\n",
       "       [-124.65666667,  -97.41333333, -125.828     ],\n",
       "       [ 121.34333333, -110.41333333, -109.828     ],\n",
       "       [  34.34333333,  -37.41333333, -109.828     ],\n",
       "       [  65.34333333,   85.58666667,  -83.828     ],\n",
       "       [ -76.65666667,   77.58666667,   12.172     ],\n",
       "       [ -51.65666667,   -9.41333333,   38.172     ],\n",
       "       [-106.65666667,   18.58666667, -118.828     ],\n",
       "       [  93.34333333,   -9.41333333,  -87.828     ],\n",
       "       [  92.34333333,  -58.41333333,  118.172     ]])"
      ]
     },
     "execution_count": 4,
     "metadata": {},
     "output_type": "execute_result"
    }
   ],
   "source": [
    "# center columns by subtracting column means\n",
    "M = np.mean(A.T, axis = 1)\n",
    "C = A - M\n",
    "C[0:10]"
   ]
  },
  {
   "cell_type": "code",
   "execution_count": 5,
   "metadata": {
    "ExecuteTime": {
     "end_time": "2019-06-15T02:57:23.347800Z",
     "start_time": "2019-06-15T02:57:23.116983Z"
    }
   },
   "outputs": [],
   "source": [
    "# calculate covariance matrix of centered matrix\n",
    "V = np.cov(C.T)"
   ]
  },
  {
   "cell_type": "code",
   "execution_count": 6,
   "metadata": {
    "ExecuteTime": {
     "end_time": "2019-06-15T02:57:24.564445Z",
     "start_time": "2019-06-15T02:57:24.558459Z"
    }
   },
   "outputs": [
    {
     "data": {
      "text/plain": [
       "array([[5493.95810826,  -67.20815827,   49.66950317],\n",
       "       [ -67.20815827, 5441.21489385,  -22.33168389],\n",
       "       [  49.66950317,  -22.33168389, 5501.76633811]])"
      ]
     },
     "execution_count": 6,
     "metadata": {},
     "output_type": "execute_result"
    }
   ],
   "source": [
    "V"
   ]
  },
  {
   "cell_type": "code",
   "execution_count": 7,
   "metadata": {
    "ExecuteTime": {
     "end_time": "2019-06-15T02:57:25.146076Z",
     "start_time": "2019-06-15T02:57:24.899022Z"
    }
   },
   "outputs": [
    {
     "data": {
      "text/plain": [
       "array([5577.82925238, 5394.35321663, 5464.75687121])"
      ]
     },
     "execution_count": 7,
     "metadata": {},
     "output_type": "execute_result"
    }
   ],
   "source": [
    "# factorize covariance matrix\n",
    "values, vectors = np.linalg.eig(V)\n",
    "values"
   ]
  },
  {
   "cell_type": "code",
   "execution_count": 8,
   "metadata": {
    "ExecuteTime": {
     "end_time": "2019-06-15T02:57:26.013763Z",
     "start_time": "2019-06-15T02:57:26.007805Z"
    }
   },
   "outputs": [
    {
     "data": {
      "text/plain": [
       "array([[-0.6905369 ,  0.59250828, -0.41484061],\n",
       "       [ 0.43426519,  0.79828959,  0.4173098 ],\n",
       "       [-0.57842246, -0.10801698,  0.80855414]])"
      ]
     },
     "execution_count": 8,
     "metadata": {},
     "output_type": "execute_result"
    }
   ],
   "source": [
    "vectors"
   ]
  },
  {
   "cell_type": "code",
   "execution_count": 9,
   "metadata": {
    "ExecuteTime": {
     "end_time": "2019-06-15T02:57:26.525765Z",
     "start_time": "2019-06-15T02:57:26.519780Z"
    }
   },
   "outputs": [
    {
     "data": {
      "text/plain": [
       "array([-3851.69690806,  2422.25708735, -3226.3416899 ])"
      ]
     },
     "execution_count": 9,
     "metadata": {},
     "output_type": "execute_result"
    }
   ],
   "source": [
    "V.dot(vectors[:,0])"
   ]
  },
  {
   "cell_type": "code",
   "execution_count": 10,
   "metadata": {
    "ExecuteTime": {
     "end_time": "2019-06-15T02:57:27.007883Z",
     "start_time": "2019-06-15T02:57:27.001870Z"
    }
   },
   "outputs": [
    {
     "data": {
      "text/plain": [
       "array([-3851.69690806,  2422.25708735, -3226.3416899 ])"
      ]
     },
     "execution_count": 10,
     "metadata": {},
     "output_type": "execute_result"
    }
   ],
   "source": [
    "vectors[:,0] * values[0]"
   ]
  },
  {
   "cell_type": "code",
   "execution_count": 11,
   "metadata": {
    "ExecuteTime": {
     "end_time": "2019-06-15T02:57:28.684786Z",
     "start_time": "2019-06-15T02:57:28.601135Z"
    }
   },
   "outputs": [
    {
     "name": "stdout",
     "output_type": "stream",
     "text": [
      "[[-120.07476937  -42.29726969   -5.99930915]\n",
      " [ 116.55854872 -138.03259645  -90.67764155]\n",
      " [ -68.21373489   -4.38159615 -185.21659292]\n",
      " ...\n",
      " [-157.48819171   21.94863165   17.8690798 ]\n",
      " [  45.02571017   31.6384565   188.77322497]\n",
      " [ -58.45366376    5.22344293 -127.48025916]]\n"
     ]
    }
   ],
   "source": [
    "# project data\n",
    "P = vectors.T.dot(C.T)\n",
    "print(P.T)"
   ]
  },
  {
   "cell_type": "code",
   "execution_count": 16,
   "metadata": {
    "ExecuteTime": {
     "end_time": "2019-06-15T02:57:52.495735Z",
     "start_time": "2019-06-15T02:57:52.489723Z"
    }
   },
   "outputs": [
    {
     "data": {
      "text/plain": [
       "array([[-120.07476937,  -42.29726969,   -5.99930915],\n",
       "       [ 116.55854872, -138.03259645,  -90.67764155],\n",
       "       [ -68.21373489,   -4.38159615, -185.21659292],\n",
       "       ...,\n",
       "       [-157.48819171,   21.94863165,   17.8690798 ],\n",
       "       [  45.02571017,   31.6384565 ,  188.77322497],\n",
       "       [ -58.45366376,    5.22344293, -127.48025916]])"
      ]
     },
     "execution_count": 16,
     "metadata": {},
     "output_type": "execute_result"
    }
   ],
   "source": [
    "P.T"
   ]
  },
  {
   "cell_type": "code",
   "execution_count": 29,
   "metadata": {
    "ExecuteTime": {
     "end_time": "2019-06-14T12:59:28.794399Z",
     "start_time": "2019-06-14T12:59:28.787390Z"
    }
   },
   "outputs": [
    {
     "data": {
      "text/plain": [
       "array([[ 13.86607965,  22.19068291,  18.25739085, ...,  81.40605706,\n",
       "        -16.03122603, -81.10765892],\n",
       "       [295.35046287, 382.95336195, 172.55544953, ..., 157.5602089 ,\n",
       "         48.47484363, 166.65462329],\n",
       "       [ 61.78863907,  72.98832897,  41.48836604, ...,  49.69742895,\n",
       "         40.35082808,  39.08688018]])"
      ]
     },
     "execution_count": 29,
     "metadata": {},
     "output_type": "execute_result"
    }
   ],
   "source": [
    "vectors.T.dot(A.T)"
   ]
  },
  {
   "cell_type": "markdown",
   "metadata": {},
   "source": [
    "## E.g: student"
   ]
  },
  {
   "cell_type": "code",
   "execution_count": 31,
   "metadata": {
    "ExecuteTime": {
     "end_time": "2019-06-14T13:01:16.520941Z",
     "start_time": "2019-06-14T13:01:15.918005Z"
    }
   },
   "outputs": [
    {
     "data": {
      "text/html": [
       "<div>\n",
       "<style scoped>\n",
       "    .dataframe tbody tr th:only-of-type {\n",
       "        vertical-align: middle;\n",
       "    }\n",
       "\n",
       "    .dataframe tbody tr th {\n",
       "        vertical-align: top;\n",
       "    }\n",
       "\n",
       "    .dataframe thead th {\n",
       "        text-align: right;\n",
       "    }\n",
       "</style>\n",
       "<table border=\"1\" class=\"dataframe\">\n",
       "  <thead>\n",
       "    <tr style=\"text-align: right;\">\n",
       "      <th></th>\n",
       "      <th>Math</th>\n",
       "      <th>English</th>\n",
       "      <th>Art</th>\n",
       "    </tr>\n",
       "    <tr>\n",
       "      <th>Student</th>\n",
       "      <th></th>\n",
       "      <th></th>\n",
       "      <th></th>\n",
       "    </tr>\n",
       "  </thead>\n",
       "  <tbody>\n",
       "    <tr>\n",
       "      <th>1</th>\n",
       "      <td>90</td>\n",
       "      <td>60</td>\n",
       "      <td>90</td>\n",
       "    </tr>\n",
       "    <tr>\n",
       "      <th>2</th>\n",
       "      <td>90</td>\n",
       "      <td>90</td>\n",
       "      <td>30</td>\n",
       "    </tr>\n",
       "    <tr>\n",
       "      <th>3</th>\n",
       "      <td>60</td>\n",
       "      <td>60</td>\n",
       "      <td>60</td>\n",
       "    </tr>\n",
       "    <tr>\n",
       "      <th>4</th>\n",
       "      <td>60</td>\n",
       "      <td>60</td>\n",
       "      <td>90</td>\n",
       "    </tr>\n",
       "    <tr>\n",
       "      <th>5</th>\n",
       "      <td>30</td>\n",
       "      <td>30</td>\n",
       "      <td>30</td>\n",
       "    </tr>\n",
       "  </tbody>\n",
       "</table>\n",
       "</div>"
      ],
      "text/plain": [
       "         Math  English  Art\n",
       "Student                    \n",
       "1          90       60   90\n",
       "2          90       90   30\n",
       "3          60       60   60\n",
       "4          60       60   90\n",
       "5          30       30   30"
      ]
     },
     "execution_count": 31,
     "metadata": {},
     "output_type": "execute_result"
    }
   ],
   "source": [
    "data = pd.read_excel(\"student.xlsx\", index_col=0)\n",
    "data.head()"
   ]
  },
  {
   "cell_type": "code",
   "execution_count": 32,
   "metadata": {
    "ExecuteTime": {
     "end_time": "2019-06-14T13:01:27.606967Z",
     "start_time": "2019-06-14T13:01:27.581037Z"
    }
   },
   "outputs": [
    {
     "data": {
      "text/plain": [
       "PCA(copy=True, iterated_power='auto', n_components=2, random_state=None,\n",
       "  svd_solver='auto', tol=0.0, whiten=False)"
      ]
     },
     "execution_count": 32,
     "metadata": {},
     "output_type": "execute_result"
    }
   ],
   "source": [
    "pca = PCA(2)\n",
    "pca.fit(data)"
   ]
  },
  {
   "cell_type": "code",
   "execution_count": 33,
   "metadata": {
    "ExecuteTime": {
     "end_time": "2019-06-14T13:01:47.970160Z",
     "start_time": "2019-06-14T13:01:47.965174Z"
    }
   },
   "outputs": [
    {
     "name": "stdout",
     "output_type": "stream",
     "text": [
      "[[-0.59862919 -0.51336438 -0.61489845]\n",
      " [ 0.47005554  0.39643891 -0.78859621]]\n",
      "(2, 3)\n",
      "[605.64181179 313.26463747]\n",
      "(2,)\n"
     ]
    }
   ],
   "source": [
    "print(pca.components_)\n",
    "print(pca.components_.shape)\n",
    "print(pca.explained_variance_)\n",
    "print(pca.explained_variance_.shape)"
   ]
  },
  {
   "cell_type": "code",
   "execution_count": 34,
   "metadata": {
    "ExecuteTime": {
     "end_time": "2019-06-14T13:02:12.181552Z",
     "start_time": "2019-06-14T13:02:12.175570Z"
    }
   },
   "outputs": [
    {
     "data": {
      "text/plain": [
       "array([[-28.71093503, -11.33365494],\n",
       "       [ -7.21795959,  47.87528492],\n",
       "       [  7.69489417,  -1.77743486],\n",
       "       [-10.75205928, -25.43532109],\n",
       "       [ 59.50165485,  -4.11438216]])"
      ]
     },
     "execution_count": 34,
     "metadata": {},
     "output_type": "execute_result"
    }
   ],
   "source": [
    "B = pca.transform(data)\n",
    "B[0:5]"
   ]
  },
  {
   "cell_type": "code",
   "execution_count": 38,
   "metadata": {
    "ExecuteTime": {
     "end_time": "2019-06-14T13:02:50.743337Z",
     "start_time": "2019-06-14T13:02:50.737352Z"
    }
   },
   "outputs": [
    {
     "data": {
      "text/plain": [
       "array([0.57863867, 0.29929742])"
      ]
     },
     "execution_count": 38,
     "metadata": {},
     "output_type": "execute_result"
    }
   ],
   "source": [
    "pca.explained_variance_ratio_"
   ]
  },
  {
   "cell_type": "code",
   "execution_count": 39,
   "metadata": {
    "ExecuteTime": {
     "end_time": "2019-06-14T13:03:23.380985Z",
     "start_time": "2019-06-14T13:03:23.370014Z"
    }
   },
   "outputs": [
    {
     "data": {
      "text/html": [
       "<div>\n",
       "<style scoped>\n",
       "    .dataframe tbody tr th:only-of-type {\n",
       "        vertical-align: middle;\n",
       "    }\n",
       "\n",
       "    .dataframe tbody tr th {\n",
       "        vertical-align: top;\n",
       "    }\n",
       "\n",
       "    .dataframe thead th {\n",
       "        text-align: right;\n",
       "    }\n",
       "</style>\n",
       "<table border=\"1\" class=\"dataframe\">\n",
       "  <thead>\n",
       "    <tr style=\"text-align: right;\">\n",
       "      <th></th>\n",
       "      <th>principal component 1</th>\n",
       "      <th>principal component 2</th>\n",
       "    </tr>\n",
       "  </thead>\n",
       "  <tbody>\n",
       "    <tr>\n",
       "      <th>0</th>\n",
       "      <td>-28.710935</td>\n",
       "      <td>-11.333655</td>\n",
       "    </tr>\n",
       "    <tr>\n",
       "      <th>1</th>\n",
       "      <td>-7.217960</td>\n",
       "      <td>47.875285</td>\n",
       "    </tr>\n",
       "    <tr>\n",
       "      <th>2</th>\n",
       "      <td>7.694894</td>\n",
       "      <td>-1.777435</td>\n",
       "    </tr>\n",
       "    <tr>\n",
       "      <th>3</th>\n",
       "      <td>-10.752059</td>\n",
       "      <td>-25.435321</td>\n",
       "    </tr>\n",
       "    <tr>\n",
       "      <th>4</th>\n",
       "      <td>59.501655</td>\n",
       "      <td>-4.114382</td>\n",
       "    </tr>\n",
       "  </tbody>\n",
       "</table>\n",
       "</div>"
      ],
      "text/plain": [
       "   principal component 1  principal component 2\n",
       "0             -28.710935             -11.333655\n",
       "1              -7.217960              47.875285\n",
       "2               7.694894              -1.777435\n",
       "3             -10.752059             -25.435321\n",
       "4              59.501655              -4.114382"
      ]
     },
     "execution_count": 39,
     "metadata": {},
     "output_type": "execute_result"
    }
   ],
   "source": [
    "principalDf = pd.DataFrame(data = B\n",
    "             , columns = ['principal component 1', 'principal component 2'])\n",
    "principalDf.head()"
   ]
  },
  {
   "cell_type": "code",
   "execution_count": 40,
   "metadata": {
    "ExecuteTime": {
     "end_time": "2019-06-14T13:03:38.467523Z",
     "start_time": "2019-06-14T13:03:37.812005Z"
    }
   },
   "outputs": [
    {
     "name": "stderr",
     "output_type": "stream",
     "text": [
      "c:\\users\\dell\\appdata\\local\\programs\\python\\python37\\lib\\site-packages\\scipy\\stats\\stats.py:1713: FutureWarning: Using a non-tuple sequence for multidimensional indexing is deprecated; use `arr[tuple(seq)]` instead of `arr[seq]`. In the future this will be interpreted as an array index, `arr[np.array(seq)]`, which will result either in an error or a different result.\n",
      "  return np.add.reduce(sorted[indexer] * weights, axis=axis) / sumval\n"
     ]
    },
    {
     "data": {
      "text/plain": [
       "<Figure size 576x432 with 0 Axes>"
      ]
     },
     "metadata": {},
     "output_type": "display_data"
    },
    {
     "data": {
      "image/png": "[encoded data removed]",
      "text/plain": [
       "<Figure size 432x432 with 3 Axes>"
      ]
     },
     "metadata": {
      "needs_background": "light"
     },
     "output_type": "display_data"
    }
   ],
   "source": [
    "plt.figure(figsize=(8,6))\n",
    "sns.jointplot(x='principal component 1', y='principal component 2', data = principalDf)\n",
    "plt.show()"
   ]
  },
  {
   "cell_type": "markdown",
   "metadata": {},
   "source": [
    "## E.g: Face"
   ]
  },
  {
   "cell_type": "code",
   "execution_count": 42,
   "metadata": {
    "ExecuteTime": {
     "end_time": "2019-06-14T13:08:32.750211Z",
     "start_time": "2019-06-14T13:04:53.426720Z"
    }
   },
   "outputs": [
    {
     "name": "stderr",
     "output_type": "stream",
     "text": [
      "Downloading LFW metadata: https://ndownloader.figshare.com/files/5976012\n",
      "Downloading LFW metadata: https://ndownloader.figshare.com/files/5976009\n",
      "Downloading LFW metadata: https://ndownloader.figshare.com/files/5976006\n",
      "Downloading LFW data (~200MB): https://ndownloader.figshare.com/files/5976015\n"
     ]
    }
   ],
   "source": [
    "faces = fetch_lfw_people(min_faces_per_person=60)"
   ]
  },
  {
   "cell_type": "code",
   "execution_count": 43,
   "metadata": {
    "ExecuteTime": {
     "end_time": "2019-06-14T13:36:33.230860Z",
     "start_time": "2019-06-14T13:36:33.225872Z"
    }
   },
   "outputs": [
    {
     "name": "stdout",
     "output_type": "stream",
     "text": [
      "['Ariel Sharon' 'Colin Powell' 'Donald Rumsfeld' 'George W Bush'\n",
      " 'Gerhard Schroeder' 'Hugo Chavez' 'Junichiro Koizumi' 'Tony Blair']\n",
      "(1348, 62, 47)\n"
     ]
    }
   ],
   "source": [
    "print(faces.target_names)\n",
    "print(faces.images.shape)"
   ]
  },
  {
   "cell_type": "code",
   "execution_count": 44,
   "metadata": {
    "ExecuteTime": {
     "end_time": "2019-06-14T13:36:45.072578Z",
     "start_time": "2019-06-14T13:36:45.066594Z"
    }
   },
   "outputs": [
    {
     "data": {
      "text/plain": [
       "(62, 47)"
      ]
     },
     "execution_count": 44,
     "metadata": {},
     "output_type": "execute_result"
    }
   ],
   "source": [
    "faces.images[0].shape"
   ]
  },
  {
   "cell_type": "code",
   "execution_count": 45,
   "metadata": {
    "ExecuteTime": {
     "end_time": "2019-06-14T13:36:57.355248Z",
     "start_time": "2019-06-14T13:36:57.350263Z"
    }
   },
   "outputs": [
    {
     "data": {
      "text/plain": [
       "2914"
      ]
     },
     "execution_count": 45,
     "metadata": {},
     "output_type": "execute_result"
    }
   ],
   "source": [
    "faces.data[0].size"
   ]
  },
  {
   "cell_type": "code",
   "execution_count": 46,
   "metadata": {
    "ExecuteTime": {
     "end_time": "2019-06-14T13:37:05.053979Z",
     "start_time": "2019-06-14T13:37:04.024219Z"
    }
   },
   "outputs": [
    {
     "data": {
      "text/plain": [
       "PCA(copy=True, iterated_power='auto', n_components=150, random_state=None,\n",
       "  svd_solver='auto', tol=0.0, whiten=False)"
      ]
     },
     "execution_count": 46,
     "metadata": {},
     "output_type": "execute_result"
    }
   ],
   "source": [
    "pca = PCA(150)\n",
    "pca.fit(faces.data)"
   ]
  },
  {
   "cell_type": "code",
   "execution_count": 49,
   "metadata": {
    "ExecuteTime": {
     "end_time": "2019-06-14T13:37:43.384877Z",
     "start_time": "2019-06-14T13:37:43.377897Z"
    }
   },
   "outputs": [
    {
     "data": {
      "text/plain": [
       "array([0.18776782, 0.14548896, 0.07103531, 0.06026756, 0.05040748,\n",
       "       0.02936598, 0.02470622, 0.02047527, 0.01968445, 0.01891782,\n",
       "       0.01560988, 0.01470453, 0.01214073, 0.01095572, 0.01042816,\n",
       "       0.00972052, 0.00906779, 0.00876521, 0.00813087, 0.00705088,\n",
       "       0.00682341, 0.00648109, 0.00603545, 0.00578568, 0.00532363,\n",
       "       0.00520648, 0.00500154, 0.00476372, 0.0045244 , 0.00425308,\n",
       "       0.00405166, 0.00380144, 0.00360033, 0.00350987, 0.00347687,\n",
       "       0.00324892, 0.00314407, 0.00310621, 0.00307643, 0.00290165,\n",
       "       0.00282754, 0.0027487 , 0.00272783, 0.00259985, 0.00246388,\n",
       "       0.00238214, 0.0023496 , 0.00231576, 0.00227235, 0.00221907,\n",
       "       0.00210642, 0.00205901, 0.00202986, 0.00200763, 0.00195911,\n",
       "       0.00195431, 0.00188171, 0.00182909, 0.00176752, 0.00175944,\n",
       "       0.00174918, 0.00166451, 0.00161345, 0.00158637, 0.00156621,\n",
       "       0.00152925, 0.00149928, 0.00146113, 0.0014524 , 0.00141118,\n",
       "       0.0014053 , 0.00136441, 0.00136221, 0.00131673, 0.0012923 ,\n",
       "       0.00125598, 0.00124961, 0.00123177, 0.00120757, 0.00118769,\n",
       "       0.00117421, 0.00115396, 0.00113186, 0.00110214, 0.00108861,\n",
       "       0.00107577, 0.00105303, 0.00103625, 0.00101864, 0.00101132,\n",
       "       0.00098022, 0.00097898, 0.00095524, 0.00094186, 0.00092618,\n",
       "       0.00092287, 0.00088942, 0.00087198, 0.00086066, 0.00085659,\n",
       "       0.00085072, 0.00082579, 0.00081614, 0.00080196, 0.00078555,\n",
       "       0.00077603, 0.00076416, 0.00074716, 0.00074339, 0.00073723,\n",
       "       0.00072333, 0.00071135, 0.00070022, 0.00069124, 0.00068757,\n",
       "       0.00068362, 0.00067306, 0.00065388, 0.00065162, 0.00063381,\n",
       "       0.00062684, 0.00061076, 0.00060706, 0.00060393, 0.00059314,\n",
       "       0.00058541, 0.00057649, 0.00057257, 0.00056521, 0.00055551,\n",
       "       0.00054876, 0.00054058, 0.00053119, 0.00051742, 0.00051403,\n",
       "       0.00051059, 0.00050558, 0.00050106, 0.00049544, 0.00048541,\n",
       "       0.00047927, 0.000474  , 0.00046806, 0.00046522, 0.00045493,\n",
       "       0.00045154, 0.00044272, 0.00043062, 0.00042953, 0.00041779],\n",
       "      dtype=float32)"
      ]
     },
     "execution_count": 49,
     "metadata": {},
     "output_type": "execute_result"
    }
   ],
   "source": [
    "pca.explained_variance_ratio_"
   ]
  },
  {
   "cell_type": "code",
   "execution_count": 50,
   "metadata": {
    "ExecuteTime": {
     "end_time": "2019-06-14T13:37:53.727748Z",
     "start_time": "2019-06-14T13:37:53.722763Z"
    }
   },
   "outputs": [
    {
     "data": {
      "text/plain": [
       "0.9457227184611838"
      ]
     },
     "execution_count": 50,
     "metadata": {},
     "output_type": "execute_result"
    }
   ],
   "source": [
    "x = sum(pca.explained_variance_ratio_)\n",
    "x"
   ]
  },
  {
   "cell_type": "code",
   "execution_count": 51,
   "metadata": {
    "ExecuteTime": {
     "end_time": "2019-06-14T13:38:05.797944Z",
     "start_time": "2019-06-14T13:38:05.732090Z"
    }
   },
   "outputs": [],
   "source": [
    "components = pca.transform(faces.data)\n",
    "projected = pca.inverse_transform(components)"
   ]
  },
  {
   "cell_type": "code",
   "execution_count": 56,
   "metadata": {
    "ExecuteTime": {
     "end_time": "2019-06-14T13:39:29.517860Z",
     "start_time": "2019-06-14T13:39:28.667385Z"
    }
   },
   "outputs": [
    {
     "data": {
      "text/plain": [
       "Text(0, 0.5, '150-dim\\nreconstruction')"
      ]
     },
     "execution_count": 56,
     "metadata": {},
     "output_type": "execute_result"
    },
    {
     "data": {
      "image/png": "[encoded data removed]",
      "text/plain": [
       "<Figure size 720x180 with 20 Axes>"
      ]
     },
     "metadata": {},
     "output_type": "display_data"
    }
   ],
   "source": [
    "# Plot the results\n",
    "fig, ax = plt.subplots(2, 10, figsize=(10, 2.5),\n",
    "                       subplot_kw={'xticks':[], 'yticks':[]},\n",
    "                       gridspec_kw=dict(hspace=0.1, wspace=0.1))\n",
    "for i in range(10):\n",
    "    ax[0, i].imshow(faces.data[i].reshape(62, 47), cmap='binary_r')\n",
    "    ax[1, i].imshow(projected[i].reshape(62, 47), cmap='binary_r')\n",
    "    \n",
    "ax[0, 0].set_ylabel('full-dim\\ninput')\n",
    "ax[1, 0].set_ylabel('150-dim\\nreconstruction')"
   ]
  },
  {
   "cell_type": "code",
   "execution_count": 61,
   "metadata": {
    "ExecuteTime": {
     "end_time": "2019-06-14T14:58:35.659010Z",
     "start_time": "2019-06-14T14:58:35.615128Z"
    }
   },
   "outputs": [],
   "source": [
    "import scipy.stats"
   ]
  },
  {
   "cell_type": "code",
   "execution_count": 62,
   "metadata": {
    "ExecuteTime": {
     "end_time": "2019-06-14T15:00:01.072253Z",
     "start_time": "2019-06-14T15:00:00.444412Z"
    }
   },
   "outputs": [
    {
     "data": {
      "text/plain": [
       "2.5705818366147395"
      ]
     },
     "execution_count": 62,
     "metadata": {},
     "output_type": "execute_result"
    }
   ],
   "source": [
    "scipy.stats.t.ppf((1 + 0.95) / 2., 5)"
   ]
  },
  {
   "cell_type": "code",
   "execution_count": null,
   "metadata": {},
   "outputs": [],
   "source": []
  }
 ],
 "metadata": {
  "kernelspec": {
   "display_name": "Python 3",
   "language": "python",
   "name": "python3"
  },
  "language_info": {
   "codemirror_mode": {
    "name": "ipython",
    "version": 3
   },
   "file_extension": ".py",
   "mimetype": "text/x-python",
   "name": "python",
   "nbconvert_exporter": "python",
   "pygments_lexer": "ipython3",
   "version": "3.7.0"
  },
  "varInspector": {
   "cols": {
    "lenName": 16,
    "lenType": 16,
    "lenVar": 40
   },
   "kernels_config": {
    "python": {
     "delete_cmd_postfix": "",
     "delete_cmd_prefix": "del ",
     "library": "var_list.py",
     "varRefreshCmd": "print(var_dic_list())"
    },
    "r": {
     "delete_cmd_postfix": ") ",
     "delete_cmd_prefix": "rm(",
     "library": "var_list.r",
     "varRefreshCmd": "cat(var_dic_list()) "
    }
   },
   "types_to_exclude": [
    "module",
    "function",
    "builtin_function_or_method",
    "instance",
    "_Feature"
   ],
   "window_display": false
  }
 },
 "nbformat": 4,
 "nbformat_minor": 2
}
