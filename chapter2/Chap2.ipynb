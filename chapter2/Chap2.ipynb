{
 "cells": [
  {
   "cell_type": "code",
   "execution_count": 1,
   "metadata": {
    "ExecuteTime": {
     "end_time": "2019-06-14T12:47:46.908055Z",
     "start_time": "2019-06-14T12:47:45.873044Z"
    }
   },
   "outputs": [],
   "source": [
    "from utils import *\n",
    "import numpy as np\n",
    "from numpy import diag\n",
    "import scipy\n",
    "from scipy.linalg import lu, qr, cholesky, eig, inv\n",
    "import scipy.linalg as linalg "
   ]
  },
  {
   "cell_type": "markdown",
   "metadata": {},
   "source": [
    "## LU Decomposition"
   ]
  },
  {
   "cell_type": "code",
   "execution_count": 2,
   "metadata": {
    "ExecuteTime": {
     "end_time": "2019-06-14T12:47:47.815651Z",
     "start_time": "2019-06-14T12:47:47.804680Z"
    }
   },
   "outputs": [
    {
     "data": {
      "text/plain": [
       "array([[ 6,  5,  6,  6,  9],\n",
       "       [ 6,  3,  6,  9,  3],\n",
       "       [ 1,  9,  4, 10,  4],\n",
       "       [ 5, 10,  4,  7, 10]])"
      ]
     },
     "execution_count": 2,
     "metadata": {},
     "output_type": "execute_result"
    }
   ],
   "source": [
    "A = create_matrix_random(4, 5, 1, 10)\n",
    "A"
   ]
  },
  {
   "cell_type": "code",
   "execution_count": 3,
   "metadata": {
    "ExecuteTime": {
     "end_time": "2019-06-14T12:47:50.660559Z",
     "start_time": "2019-06-14T12:47:50.496839Z"
    }
   },
   "outputs": [],
   "source": [
    "P, L, U = lu(A)"
   ]
  },
  {
   "cell_type": "code",
   "execution_count": 4,
   "metadata": {
    "ExecuteTime": {
     "end_time": "2019-06-14T12:48:00.516326Z",
     "start_time": "2019-06-14T12:48:00.510342Z"
    }
   },
   "outputs": [
    {
     "data": {
      "text/plain": [
       "array([[1., 0., 0., 0.],\n",
       "       [0., 0., 0., 1.],\n",
       "       [0., 1., 0., 0.],\n",
       "       [0., 0., 1., 0.]])"
      ]
     },
     "execution_count": 4,
     "metadata": {},
     "output_type": "execute_result"
    }
   ],
   "source": [
    "P"
   ]
  },
  {
   "cell_type": "code",
   "execution_count": 5,
   "metadata": {
    "ExecuteTime": {
     "end_time": "2019-06-14T12:48:01.110603Z",
     "start_time": "2019-06-14T12:48:01.104619Z"
    }
   },
   "outputs": [
    {
     "data": {
      "text/plain": [
       "array([[ 1.        ,  0.        ,  0.        ,  0.        ],\n",
       "       [ 0.16666667,  1.        ,  0.        ,  0.        ],\n",
       "       [ 0.83333333,  0.71428571,  1.        ,  0.        ],\n",
       "       [ 1.        , -0.24489796, -0.23376623,  1.        ]])"
      ]
     },
     "execution_count": 5,
     "metadata": {},
     "output_type": "execute_result"
    }
   ],
   "source": [
    "L"
   ]
  },
  {
   "cell_type": "code",
   "execution_count": 6,
   "metadata": {
    "ExecuteTime": {
     "end_time": "2019-06-14T12:48:09.635424Z",
     "start_time": "2019-06-14T12:48:09.629468Z"
    }
   },
   "outputs": [
    {
     "data": {
      "text/plain": [
       "array([[ 6.        ,  5.        ,  6.        ,  6.        ,  9.        ],\n",
       "       [ 0.        ,  8.16666667,  3.        ,  9.        ,  2.5       ],\n",
       "       [ 0.        ,  0.        , -3.14285714, -4.42857143,  0.71428571],\n",
       "       [ 0.        ,  0.        ,  0.        ,  4.16883117, -5.22077922]])"
      ]
     },
     "execution_count": 6,
     "metadata": {},
     "output_type": "execute_result"
    }
   ],
   "source": [
    "U"
   ]
  },
  {
   "cell_type": "code",
   "execution_count": 7,
   "metadata": {
    "ExecuteTime": {
     "end_time": "2019-06-14T12:48:11.046134Z",
     "start_time": "2019-06-14T12:48:11.040178Z"
    }
   },
   "outputs": [
    {
     "data": {
      "text/plain": [
       "array([[ 6.,  5.,  6.,  6.,  9.],\n",
       "       [ 6.,  3.,  6.,  9.,  3.],\n",
       "       [ 1.,  9.,  4., 10.,  4.],\n",
       "       [ 5., 10.,  4.,  7., 10.]])"
      ]
     },
     "execution_count": 7,
     "metadata": {},
     "output_type": "execute_result"
    }
   ],
   "source": [
    "B = P.dot(L).dot(U)\n",
    "B"
   ]
  },
  {
   "cell_type": "code",
   "execution_count": 8,
   "metadata": {
    "ExecuteTime": {
     "end_time": "2019-06-14T12:48:15.229123Z",
     "start_time": "2019-06-14T12:48:15.069798Z"
    }
   },
   "outputs": [
    {
     "name": "stdout",
     "output_type": "stream",
     "text": [
      "Solutions(a, b, c):\n",
      " [  6.  15. -23.]\n"
     ]
    }
   ],
   "source": [
    "# define matrix A using Numpy arrays \n",
    "A = np.array([[2, 1, 1], [1, 3, 2], [1, 0, 0]]) \n",
    "\n",
    "# define matrix B \n",
    "B = np.array([4, 5, 6]) \n",
    "\n",
    "# With LU = A\n",
    "LU = linalg.lu_factor(A) \n",
    "\n",
    "#solve given LU and B \n",
    "x = linalg.lu_solve(LU, B) \n",
    "print(\"Solutions(a, b, c):\\n\",x) "
   ]
  },
  {
   "cell_type": "code",
   "execution_count": 11,
   "metadata": {
    "ExecuteTime": {
     "end_time": "2019-06-14T10:48:25.487696Z",
     "start_time": "2019-06-14T10:48:25.483735Z"
    }
   },
   "outputs": [],
   "source": [
    "P, L, U = scipy.linalg.lu(A) "
   ]
  },
  {
   "cell_type": "code",
   "execution_count": 12,
   "metadata": {
    "ExecuteTime": {
     "end_time": "2019-06-14T10:48:43.126393Z",
     "start_time": "2019-06-14T10:48:43.122403Z"
    }
   },
   "outputs": [],
   "source": [
    "# define matrix A using Numpy arrays \n",
    "A = np.array([[2, 1, 1], [1, 3, 2], [1, 0, 0]]) "
   ]
  },
  {
   "cell_type": "code",
   "execution_count": 13,
   "metadata": {
    "ExecuteTime": {
     "end_time": "2019-06-14T10:49:00.392257Z",
     "start_time": "2019-06-14T10:49:00.388268Z"
    }
   },
   "outputs": [],
   "source": [
    "LU = linalg.lu_factor()"
   ]
  },
  {
   "cell_type": "code",
   "execution_count": 20,
   "metadata": {
    "ExecuteTime": {
     "end_time": "2019-06-14T10:58:09.095609Z",
     "start_time": "2019-06-14T10:58:09.091591Z"
    }
   },
   "outputs": [],
   "source": [
    "P, L, U = lu(A)"
   ]
  },
  {
   "cell_type": "code",
   "execution_count": 21,
   "metadata": {
    "ExecuteTime": {
     "end_time": "2019-06-14T10:58:13.264507Z",
     "start_time": "2019-06-14T10:58:13.259548Z"
    }
   },
   "outputs": [
    {
     "data": {
      "text/plain": [
       "array([[1., 0., 0.],\n",
       "       [0., 1., 0.],\n",
       "       [0., 0., 1.]])"
      ]
     },
     "execution_count": 21,
     "metadata": {},
     "output_type": "execute_result"
    }
   ],
   "source": [
    "P"
   ]
  },
  {
   "cell_type": "code",
   "execution_count": 22,
   "metadata": {
    "ExecuteTime": {
     "end_time": "2019-06-14T10:58:17.684400Z",
     "start_time": "2019-06-14T10:58:17.679412Z"
    }
   },
   "outputs": [
    {
     "data": {
      "text/plain": [
       "array([[ 1. ,  0. ,  0. ],\n",
       "       [ 0.5,  1. ,  0. ],\n",
       "       [ 0.5, -0.2,  1. ]])"
      ]
     },
     "execution_count": 22,
     "metadata": {},
     "output_type": "execute_result"
    }
   ],
   "source": [
    "L"
   ]
  },
  {
   "cell_type": "code",
   "execution_count": 23,
   "metadata": {
    "ExecuteTime": {
     "end_time": "2019-06-14T10:58:21.229742Z",
     "start_time": "2019-06-14T10:58:21.224753Z"
    }
   },
   "outputs": [
    {
     "data": {
      "text/plain": [
       "array([[ 2. ,  1. ,  1. ],\n",
       "       [ 0. ,  2.5,  1.5],\n",
       "       [ 0. ,  0. , -0.2]])"
      ]
     },
     "execution_count": 23,
     "metadata": {},
     "output_type": "execute_result"
    }
   ],
   "source": [
    "U"
   ]
  },
  {
   "cell_type": "code",
   "execution_count": 26,
   "metadata": {
    "ExecuteTime": {
     "end_time": "2019-06-14T11:01:52.231659Z",
     "start_time": "2019-06-14T11:01:52.225676Z"
    }
   },
   "outputs": [
    {
     "data": {
      "text/plain": [
       "array([[ 2. ,  1. ,  1. ],\n",
       "       [ 0.5,  2.5,  1.5],\n",
       "       [ 0.5, -0.2, -0.2]])"
      ]
     },
     "execution_count": 26,
     "metadata": {},
     "output_type": "execute_result"
    }
   ],
   "source": [
    "LU[0]"
   ]
  },
  {
   "cell_type": "code",
   "execution_count": 27,
   "metadata": {
    "ExecuteTime": {
     "end_time": "2019-06-14T11:01:55.437014Z",
     "start_time": "2019-06-14T11:01:55.432054Z"
    }
   },
   "outputs": [
    {
     "data": {
      "text/plain": [
       "array([0, 1, 2], dtype=int32)"
      ]
     },
     "execution_count": 27,
     "metadata": {},
     "output_type": "execute_result"
    }
   ],
   "source": [
    "LU[1]"
   ]
  },
  {
   "cell_type": "code",
   "execution_count": 28,
   "metadata": {
    "ExecuteTime": {
     "end_time": "2019-06-14T11:02:04.617066Z",
     "start_time": "2019-06-14T11:02:04.612081Z"
    }
   },
   "outputs": [
    {
     "data": {
      "text/plain": [
       "(3,)"
      ]
     },
     "execution_count": 28,
     "metadata": {},
     "output_type": "execute_result"
    }
   ],
   "source": [
    "B.shape"
   ]
  },
  {
   "cell_type": "markdown",
   "metadata": {},
   "source": [
    "## QR Decomposition"
   ]
  },
  {
   "cell_type": "code",
   "execution_count": 9,
   "metadata": {
    "ExecuteTime": {
     "end_time": "2019-06-14T12:48:22.817353Z",
     "start_time": "2019-06-14T12:48:22.812393Z"
    }
   },
   "outputs": [
    {
     "data": {
      "text/plain": [
       "array([[ 5,  7,  8, 10],\n",
       "       [ 8,  6,  5,  8],\n",
       "       [ 9,  7,  9,  9],\n",
       "       [10,  7, 10,  7]])"
      ]
     },
     "execution_count": 9,
     "metadata": {},
     "output_type": "execute_result"
    }
   ],
   "source": [
    "B = create_matrix_random(4, 4, 5, 10)\n",
    "B"
   ]
  },
  {
   "cell_type": "code",
   "execution_count": 10,
   "metadata": {
    "ExecuteTime": {
     "end_time": "2019-06-14T12:48:23.877163Z",
     "start_time": "2019-06-14T12:48:23.606450Z"
    }
   },
   "outputs": [],
   "source": [
    "Q, R = qr(B)"
   ]
  },
  {
   "cell_type": "code",
   "execution_count": 11,
   "metadata": {
    "ExecuteTime": {
     "end_time": "2019-06-14T12:48:25.149336Z",
     "start_time": "2019-06-14T12:48:25.143321Z"
    }
   },
   "outputs": [
    {
     "data": {
      "text/plain": [
       "array([[-0.30429031,  0.93933644, -0.06085806,  0.146119  ],\n",
       "       [-0.4868645 , -0.12524486,  0.85201287,  0.146119  ],\n",
       "       [-0.54772256, -0.06262243, -0.18257419, -0.81409158],\n",
       "       [-0.60858062, -0.31311215, -0.4868645 ,  0.54272772]])"
      ]
     },
     "execution_count": 11,
     "metadata": {},
     "output_type": "execute_result"
    }
   ],
   "source": [
    "Q"
   ]
  },
  {
   "cell_type": "code",
   "execution_count": 12,
   "metadata": {
    "ExecuteTime": {
     "end_time": "2019-06-14T12:48:29.855127Z",
     "start_time": "2019-06-14T12:48:29.850140Z"
    }
   },
   "outputs": [
    {
     "data": {
      "text/plain": [
       "array([[-16.43167673, -13.14534138, -15.88395417, -16.12738642],\n",
       "       [  0.        ,   3.19374388,   3.19374388,   5.63601862],\n",
       "       [  0.        ,   0.        ,  -2.73861279,   1.15630318],\n",
       "       [  0.        ,   0.        ,   0.        ,  -0.89758815]])"
      ]
     },
     "execution_count": 12,
     "metadata": {},
     "output_type": "execute_result"
    }
   ],
   "source": [
    "R"
   ]
  },
  {
   "cell_type": "code",
   "execution_count": 13,
   "metadata": {
    "ExecuteTime": {
     "end_time": "2019-06-14T12:48:32.225427Z",
     "start_time": "2019-06-14T12:48:32.219470Z"
    }
   },
   "outputs": [
    {
     "data": {
      "text/plain": [
       "array([[ 5.,  7.,  8., 10.],\n",
       "       [ 8.,  6.,  5.,  8.],\n",
       "       [ 9.,  7.,  9.,  9.],\n",
       "       [10.,  7., 10.,  7.]])"
      ]
     },
     "execution_count": 13,
     "metadata": {},
     "output_type": "execute_result"
    }
   ],
   "source": [
    "C = Q.dot(R)\n",
    "C"
   ]
  },
  {
   "cell_type": "markdown",
   "metadata": {},
   "source": [
    "## Cholesky "
   ]
  },
  {
   "cell_type": "code",
   "execution_count": 14,
   "metadata": {
    "ExecuteTime": {
     "end_time": "2019-06-14T12:48:34.458379Z",
     "start_time": "2019-06-14T12:48:34.452422Z"
    }
   },
   "outputs": [],
   "source": [
    "def create_matrix_positive_definite(m, n, start, end):\n",
    "    E = None\n",
    "    flag = False\n",
    "    while flag == False:\n",
    "        E =  create_matrix_random(m, n, start, end)\n",
    "        for i in range(E.shape[0]):\n",
    "            for j in range(i):\n",
    "                E[j][i] = E[i][j]\n",
    "        test = np.linalg.eigvalsh(E)\n",
    "        flag = np.all(test>0)\n",
    "    return E"
   ]
  },
  {
   "cell_type": "code",
   "execution_count": 15,
   "metadata": {
    "ExecuteTime": {
     "end_time": "2019-06-14T12:48:52.279159Z",
     "start_time": "2019-06-14T12:48:52.030022Z"
    }
   },
   "outputs": [
    {
     "data": {
      "text/plain": [
       "array([[9, 8, 6],\n",
       "       [8, 9, 7],\n",
       "       [6, 7, 8]])"
      ]
     },
     "execution_count": 15,
     "metadata": {},
     "output_type": "execute_result"
    }
   ],
   "source": [
    "E = create_matrix_positive_definite(3, 3, 3, 9)\n",
    "E"
   ]
  },
  {
   "cell_type": "code",
   "execution_count": 16,
   "metadata": {
    "ExecuteTime": {
     "end_time": "2019-06-14T12:51:11.364728Z",
     "start_time": "2019-06-14T12:51:11.340818Z"
    }
   },
   "outputs": [
    {
     "name": "stdout",
     "output_type": "stream",
     "text": [
      "[[3.         2.66666667 2.        ]\n",
      " [0.         1.37436854 1.21267813]\n",
      " [0.         0.         1.59041245]]\n"
     ]
    }
   ],
   "source": [
    "L = cholesky(E)\n",
    "print(L)"
   ]
  },
  {
   "cell_type": "code",
   "execution_count": 17,
   "metadata": {
    "ExecuteTime": {
     "end_time": "2019-06-14T12:51:13.491969Z",
     "start_time": "2019-06-14T12:51:13.486983Z"
    }
   },
   "outputs": [
    {
     "name": "stdout",
     "output_type": "stream",
     "text": [
      "[[20.11111111  6.09033903  3.1808249 ]\n",
      " [ 6.09033903  3.35947712  1.92865839]\n",
      " [ 3.1808249   1.92865839  2.52941176]]\n"
     ]
    }
   ],
   "source": [
    "F = L.dot(L.T)\n",
    "print(F)"
   ]
  },
  {
   "cell_type": "markdown",
   "metadata": {},
   "source": [
    "## Eigen Decomposition"
   ]
  },
  {
   "cell_type": "code",
   "execution_count": 18,
   "metadata": {
    "ExecuteTime": {
     "end_time": "2019-06-14T12:51:21.917780Z",
     "start_time": "2019-06-14T12:51:21.912793Z"
    }
   },
   "outputs": [
    {
     "data": {
      "text/plain": [
       "array([[ 6, 11,  7,  6,  3],\n",
       "       [10,  5,  8, 10, 10],\n",
       "       [ 4,  2, 10,  6,  7],\n",
       "       [ 2,  5,  6,  5,  8],\n",
       "       [ 1,  1,  9,  8,  2]])"
      ]
     },
     "execution_count": 18,
     "metadata": {},
     "output_type": "execute_result"
    }
   ],
   "source": [
    "A = create_matrix_random(5, 5, 1, 10)\n",
    "A"
   ]
  },
  {
   "cell_type": "code",
   "execution_count": 19,
   "metadata": {
    "ExecuteTime": {
     "end_time": "2019-06-14T12:51:31.311273Z",
     "start_time": "2019-06-14T12:51:30.447923Z"
    }
   },
   "outputs": [],
   "source": [
    "values, vectors = eig(A)"
   ]
  },
  {
   "cell_type": "code",
   "execution_count": 20,
   "metadata": {
    "ExecuteTime": {
     "end_time": "2019-06-14T12:51:37.179172Z",
     "start_time": "2019-06-14T12:51:37.066552Z"
    }
   },
   "outputs": [
    {
     "data": {
      "text/plain": [
       "array([-15.51150048+0.j, -17.71796747+0.j, -11.23641779+0.j,\n",
       "       -10.37336665+0.j,  -7.99242718+0.j])"
      ]
     },
     "execution_count": 20,
     "metadata": {},
     "output_type": "execute_result"
    }
   ],
   "source": [
    "# Confirm first eigenvector\n",
    "B = A.dot(vectors[:,0])\n",
    "B"
   ]
  },
  {
   "cell_type": "code",
   "execution_count": 21,
   "metadata": {
    "ExecuteTime": {
     "end_time": "2019-06-14T12:51:39.086350Z",
     "start_time": "2019-06-14T12:51:39.080364Z"
    }
   },
   "outputs": [
    {
     "data": {
      "text/plain": [
       "array([-15.51150048+0.j, -17.71796747+0.j, -11.23641779+0.j,\n",
       "       -10.37336665+0.j,  -7.99242718+0.j])"
      ]
     },
     "execution_count": 21,
     "metadata": {},
     "output_type": "execute_result"
    }
   ],
   "source": [
    "C = vectors[:, 0] * values[0]\n",
    "C"
   ]
  },
  {
   "cell_type": "code",
   "execution_count": 24,
   "metadata": {
    "ExecuteTime": {
     "end_time": "2019-06-14T12:55:28.541628Z",
     "start_time": "2019-06-14T12:55:28.231611Z"
    }
   },
   "outputs": [],
   "source": [
    "Q = vectors\n",
    "R = inv(Q)\n",
    "L = diag(values)"
   ]
  },
  {
   "cell_type": "code",
   "execution_count": 25,
   "metadata": {
    "ExecuteTime": {
     "end_time": "2019-06-14T12:55:29.193866Z",
     "start_time": "2019-06-14T12:55:28.936581Z"
    }
   },
   "outputs": [
    {
     "data": {
      "text/plain": [
       "array([[ 6.-1.10190820e-15j, 11.+4.85958337e-16j,  7.+6.40114310e-16j,\n",
       "         6.+8.98292410e-16j,  3.-1.24410322e-15j],\n",
       "       [10.-8.47264311e-16j,  5.+6.86071862e-16j,  8.+2.09611494e-16j,\n",
       "        10.+9.62717359e-16j, 10.-1.18711272e-15j],\n",
       "       [ 4.-4.85558004e-16j,  2.+3.59659954e-16j, 10.+1.47608927e-16j,\n",
       "         6.+4.36299491e-16j,  7.-4.79117389e-16j],\n",
       "       [ 2.-5.13640356e-16j,  5.+1.79875766e-16j,  6.+2.94837262e-16j,\n",
       "         5.+4.27404319e-16j,  8.-4.81020361e-16j],\n",
       "       [ 1.-6.03621368e-16j,  1.+3.74744090e-16j,  9.+1.98616181e-16j,\n",
       "         8.+2.24982608e-16j,  2.-4.58798418e-16j]])"
      ]
     },
     "execution_count": 25,
     "metadata": {},
     "output_type": "execute_result"
    }
   ],
   "source": [
    "A_new = Q.dot(L).dot(R)\n",
    "A_new"
   ]
  },
  {
   "cell_type": "code",
   "execution_count": null,
   "metadata": {},
   "outputs": [],
   "source": []
  }
 ],
 "metadata": {
  "kernelspec": {
   "display_name": "Python 3",
   "language": "python",
   "name": "python3"
  },
  "language_info": {
   "codemirror_mode": {
    "name": "ipython",
    "version": 3
   },
   "file_extension": ".py",
   "mimetype": "text/x-python",
   "name": "python",
   "nbconvert_exporter": "python",
   "pygments_lexer": "ipython3",
   "version": "3.7.0"
  },
  "varInspector": {
   "cols": {
    "lenName": 16,
    "lenType": 16,
    "lenVar": 40
   },
   "kernels_config": {
    "python": {
     "delete_cmd_postfix": "",
     "delete_cmd_prefix": "del ",
     "library": "var_list.py",
     "varRefreshCmd": "print(var_dic_list())"
    },
    "r": {
     "delete_cmd_postfix": ") ",
     "delete_cmd_prefix": "rm(",
     "library": "var_list.r",
     "varRefreshCmd": "cat(var_dic_list()) "
    }
   },
   "types_to_exclude": [
    "module",
    "function",
    "builtin_function_or_method",
    "instance",
    "_Feature"
   ],
   "window_display": false
  }
 },
 "nbformat": 4,
 "nbformat_minor": 2
}
