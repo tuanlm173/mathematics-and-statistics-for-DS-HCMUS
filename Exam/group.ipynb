{
 "cells": [
  {
   "cell_type": "code",
   "execution_count": 1,
   "metadata": {
    "ExecuteTime": {
     "end_time": "2019-06-15T08:07:20.225672Z",
     "start_time": "2019-06-15T08:07:20.217855Z"
    }
   },
   "outputs": [],
   "source": [
    "import sys\n",
    "sys.path.insert(\n",
    "    0,\n",
    "    r\"C:\\Users\\DELL\\Desktop\\Math and Stats for DS (CSC)\",\n",
    ")"
   ]
  },
  {
   "cell_type": "code",
   "execution_count": 2,
   "metadata": {
    "ExecuteTime": {
     "end_time": "2019-06-15T08:07:24.935980Z",
     "start_time": "2019-06-15T08:07:24.842686Z"
    }
   },
   "outputs": [],
   "source": [
    "%reload_ext autoreload"
   ]
  },
  {
   "cell_type": "code",
   "execution_count": 3,
   "metadata": {
    "ExecuteTime": {
     "end_time": "2019-06-15T08:07:30.237175Z",
     "start_time": "2019-06-15T08:07:30.227170Z"
    }
   },
   "outputs": [],
   "source": [
    "%autoreload 2"
   ]
  },
  {
   "cell_type": "code",
   "execution_count": 4,
   "metadata": {
    "ExecuteTime": {
     "end_time": "2019-06-15T08:07:36.859240Z",
     "start_time": "2019-06-15T08:07:35.068092Z"
    }
   },
   "outputs": [],
   "source": [
    "from utils import * "
   ]
  },
  {
   "cell_type": "code",
   "execution_count": 8,
   "metadata": {
    "ExecuteTime": {
     "end_time": "2019-06-15T08:10:06.553041Z",
     "start_time": "2019-06-15T08:10:06.316562Z"
    }
   },
   "outputs": [],
   "source": [
    "import numpy as np\n",
    "import pandas as pd \n",
    "import matplotlib.pyplot as plt\n",
    "import seaborn as sns \n",
    "import scipy.stats as stats\n",
    "from sklearn.decomposition import PCA"
   ]
  },
  {
   "cell_type": "code",
   "execution_count": 6,
   "metadata": {
    "ExecuteTime": {
     "end_time": "2019-06-15T08:09:26.162822Z",
     "start_time": "2019-06-15T08:09:25.690367Z"
    }
   },
   "outputs": [],
   "source": [
    "data = pd.read_csv('group.csv')"
   ]
  },
  {
   "cell_type": "code",
   "execution_count": 7,
   "metadata": {
    "ExecuteTime": {
     "end_time": "2019-06-15T08:09:28.641716Z",
     "start_time": "2019-06-15T08:09:28.445031Z"
    }
   },
   "outputs": [
    {
     "data": {
      "text/html": [
       "<div>\n",
       "<style scoped>\n",
       "    .dataframe tbody tr th:only-of-type {\n",
       "        vertical-align: middle;\n",
       "    }\n",
       "\n",
       "    .dataframe tbody tr th {\n",
       "        vertical-align: top;\n",
       "    }\n",
       "\n",
       "    .dataframe thead th {\n",
       "        text-align: right;\n",
       "    }\n",
       "</style>\n",
       "<table border=\"1\" class=\"dataframe\">\n",
       "  <thead>\n",
       "    <tr style=\"text-align: right;\">\n",
       "      <th></th>\n",
       "      <th>f1</th>\n",
       "      <th>f2</th>\n",
       "      <th>f3</th>\n",
       "      <th>f4</th>\n",
       "      <th>f5</th>\n",
       "      <th>f6</th>\n",
       "      <th>f7</th>\n",
       "      <th>f8</th>\n",
       "      <th>f9</th>\n",
       "      <th>f10</th>\n",
       "      <th>Group</th>\n",
       "    </tr>\n",
       "  </thead>\n",
       "  <tbody>\n",
       "    <tr>\n",
       "      <th>0</th>\n",
       "      <td>1.111460</td>\n",
       "      <td>10.625660</td>\n",
       "      <td>6.917054</td>\n",
       "      <td>7.240412</td>\n",
       "      <td>-7.504841</td>\n",
       "      <td>-10.294909</td>\n",
       "      <td>0.873230</td>\n",
       "      <td>-6.752584</td>\n",
       "      <td>2.724180</td>\n",
       "      <td>0.136606</td>\n",
       "      <td>2</td>\n",
       "    </tr>\n",
       "    <tr>\n",
       "      <th>1</th>\n",
       "      <td>3.922212</td>\n",
       "      <td>-5.457902</td>\n",
       "      <td>6.037059</td>\n",
       "      <td>10.372529</td>\n",
       "      <td>-3.383697</td>\n",
       "      <td>5.837285</td>\n",
       "      <td>-8.166151</td>\n",
       "      <td>-1.318083</td>\n",
       "      <td>-9.058159</td>\n",
       "      <td>9.955288</td>\n",
       "      <td>1</td>\n",
       "    </tr>\n",
       "    <tr>\n",
       "      <th>2</th>\n",
       "      <td>8.998367</td>\n",
       "      <td>1.313214</td>\n",
       "      <td>8.651334</td>\n",
       "      <td>6.086529</td>\n",
       "      <td>0.962872</td>\n",
       "      <td>-7.069004</td>\n",
       "      <td>9.286666</td>\n",
       "      <td>-11.965042</td>\n",
       "      <td>-4.219077</td>\n",
       "      <td>-4.333978</td>\n",
       "      <td>0</td>\n",
       "    </tr>\n",
       "    <tr>\n",
       "      <th>3</th>\n",
       "      <td>0.076301</td>\n",
       "      <td>8.199190</td>\n",
       "      <td>-2.716994</td>\n",
       "      <td>-7.578235</td>\n",
       "      <td>-7.772931</td>\n",
       "      <td>-3.542986</td>\n",
       "      <td>4.285229</td>\n",
       "      <td>3.948615</td>\n",
       "      <td>-1.028294</td>\n",
       "      <td>3.300239</td>\n",
       "      <td>3</td>\n",
       "    </tr>\n",
       "    <tr>\n",
       "      <th>4</th>\n",
       "      <td>8.947106</td>\n",
       "      <td>2.617702</td>\n",
       "      <td>11.026892</td>\n",
       "      <td>0.614568</td>\n",
       "      <td>4.029671</td>\n",
       "      <td>-5.606354</td>\n",
       "      <td>7.968009</td>\n",
       "      <td>-9.516573</td>\n",
       "      <td>-7.851421</td>\n",
       "      <td>-0.191799</td>\n",
       "      <td>0</td>\n",
       "    </tr>\n",
       "  </tbody>\n",
       "</table>\n",
       "</div>"
      ],
      "text/plain": [
       "         f1         f2         f3         f4        f5         f6        f7  \\\n",
       "0  1.111460  10.625660   6.917054   7.240412 -7.504841 -10.294909  0.873230   \n",
       "1  3.922212  -5.457902   6.037059  10.372529 -3.383697   5.837285 -8.166151   \n",
       "2  8.998367   1.313214   8.651334   6.086529  0.962872  -7.069004  9.286666   \n",
       "3  0.076301   8.199190  -2.716994  -7.578235 -7.772931  -3.542986  4.285229   \n",
       "4  8.947106   2.617702  11.026892   0.614568  4.029671  -5.606354  7.968009   \n",
       "\n",
       "          f8        f9       f10  Group  \n",
       "0  -6.752584  2.724180  0.136606      2  \n",
       "1  -1.318083 -9.058159  9.955288      1  \n",
       "2 -11.965042 -4.219077 -4.333978      0  \n",
       "3   3.948615 -1.028294  3.300239      3  \n",
       "4  -9.516573 -7.851421 -0.191799      0  "
      ]
     },
     "execution_count": 7,
     "metadata": {},
     "output_type": "execute_result"
    }
   ],
   "source": [
    "data.head()"
   ]
  },
  {
   "cell_type": "code",
   "execution_count": 11,
   "metadata": {
    "ExecuteTime": {
     "end_time": "2019-06-15T08:12:36.411399Z",
     "start_time": "2019-06-15T08:12:35.800904Z"
    }
   },
   "outputs": [
    {
     "data": {
      "text/plain": [
       "<matplotlib.axes._subplots.AxesSubplot at 0x19268c08a58>"
      ]
     },
     "execution_count": 11,
     "metadata": {},
     "output_type": "execute_result"
    },
    {
     "data": {
      "image/png": "[encoded data removed]",
      "text/plain": [
       "<Figure size 792x648 with 2 Axes>"
      ]
     },
     "metadata": {
      "needs_background": "light"
     },
     "output_type": "display_data"
    }
   ],
   "source": [
    "# Compute the correlation matrix\n",
    "corr = data.corr()\n",
    "\n",
    "# Generate a mask for the upper triangle\n",
    "mask = np.zeros_like(corr, dtype=np.bool)\n",
    "mask[np.triu_indices_from(mask)] = True\n",
    "\n",
    "# Set up the matplotlib figure\n",
    "f, ax = plt.subplots(figsize=(11, 9))\n",
    "\n",
    "# Generate a custom diverging colormap\n",
    "cmap = sns.diverging_palette(220, 10, as_cmap=True)\n",
    "\n",
    "# Draw the heatmap with the mask and correct aspect ratio\n",
    "sns.heatmap(corr, mask=mask, cmap=cmap, vmax=.3, center=0,\n",
    "            square=True, linewidths=.5, cbar_kws={\"shrink\": .5})"
   ]
  },
  {
   "cell_type": "code",
   "execution_count": 27,
   "metadata": {
    "ExecuteTime": {
     "end_time": "2019-06-15T08:19:38.373444Z",
     "start_time": "2019-06-15T08:19:37.786680Z"
    }
   },
   "outputs": [
    {
     "name": "stdout",
     "output_type": "stream",
     "text": [
      "[0.4145438128627056, 0.7559273882506137, 0.9154228281335155, 0.9355075877122083, 0.9518471761770797, 0.9642982250643041, 0.9749939981389942, 0.9842950560634708, 0.9925202774075149, 0.9998719032380826]\n"
     ]
    },
    {
     "data": {
      "image/png": "[encoded data removed]",
      "text/plain": [
       "<Figure size 432x288 with 1 Axes>"
      ]
     },
     "metadata": {
      "needs_background": "light"
     },
     "output_type": "display_data"
    }
   ],
   "source": [
    "explained_var_ratios = []\n",
    "lst = list(range(1,11))\n",
    "for i in range(1,11):\n",
    "    pca = PCA(i)\n",
    "    pca.fit(data)\n",
    "    explained_var_ratios.append(sum(pca.explained_variance_ratio_))\n",
    "print(explained_var_ratios)\n",
    "plt.plot(lst, explained_var_ratios)\n",
    "plt.show()"
   ]
  },
  {
   "cell_type": "markdown",
   "metadata": {},
   "source": [
    "* Ta thấy lựa chọn dimentions bằng 8 là hợp lý do vẫn dữ được explained ratio lớn hơn 0.9 "
   ]
  },
  {
   "cell_type": "code",
   "execution_count": 28,
   "metadata": {
    "ExecuteTime": {
     "end_time": "2019-06-15T08:20:43.526344Z",
     "start_time": "2019-06-15T08:20:43.342329Z"
    }
   },
   "outputs": [
    {
     "data": {
      "text/plain": [
       "PCA(copy=True, iterated_power='auto', n_components=8, random_state=None,\n",
       "  svd_solver='auto', tol=0.0, whiten=False)"
      ]
     },
     "execution_count": 28,
     "metadata": {},
     "output_type": "execute_result"
    }
   ],
   "source": [
    "pca = PCA(8)\n",
    "pca.fit(data)"
   ]
  },
  {
   "cell_type": "code",
   "execution_count": 29,
   "metadata": {
    "ExecuteTime": {
     "end_time": "2019-06-15T08:20:45.552193Z",
     "start_time": "2019-06-15T08:20:45.297222Z"
    }
   },
   "outputs": [],
   "source": [
    "components = pca.transform(data)\n",
    "projected = pca.inverse_transform(components)"
   ]
  },
  {
   "cell_type": "code",
   "execution_count": 30,
   "metadata": {
    "ExecuteTime": {
     "end_time": "2019-06-15T08:20:46.568180Z",
     "start_time": "2019-06-15T08:20:46.382607Z"
    }
   },
   "outputs": [
    {
     "data": {
      "text/plain": [
       "(100, 8)"
      ]
     },
     "execution_count": 30,
     "metadata": {},
     "output_type": "execute_result"
    }
   ],
   "source": [
    "components.shape"
   ]
  },
  {
   "cell_type": "code",
   "execution_count": 31,
   "metadata": {
    "ExecuteTime": {
     "end_time": "2019-06-15T08:21:00.024104Z",
     "start_time": "2019-06-15T08:20:59.844984Z"
    }
   },
   "outputs": [
    {
     "data": {
      "text/plain": [
       "array([[-8.14398029e+00,  3.57522724e-01,  9.98639721e+00,\n",
       "         4.23972862e-01, -2.12005522e-01, -4.27857276e-01,\n",
       "        -3.82894858e-01, -3.11907323e+00],\n",
       "       [ 1.89337098e+01, -4.43073899e-01,  5.25989754e-02,\n",
       "        -3.89466299e+00,  2.30208156e+00, -9.30260186e-01,\n",
       "        -6.53427665e-02,  1.94262217e+00],\n",
       "       [-6.33903388e+00,  1.43768173e+01, -3.09623411e+00,\n",
       "         1.27855426e+00,  5.31922219e-01,  3.67905981e+00,\n",
       "         2.42940749e-01, -9.70001545e-01],\n",
       "       [-7.75906925e+00, -1.43838836e+01, -5.48056133e+00,\n",
       "         3.35829541e+00,  2.61938291e+00, -1.87902153e+00,\n",
       "        -2.62574394e+00,  1.02364856e-01],\n",
       "       [-4.39519670e+00,  1.15005211e+01, -9.11613928e+00,\n",
       "        -1.41927247e+00, -1.43832686e+00,  2.44337376e-01,\n",
       "        -1.55386950e+00, -2.53274279e+00],\n",
       "       [-8.05632997e+00, -1.97534182e+00,  7.72285311e+00,\n",
       "         1.49422873e+00,  1.07234044e+00,  7.95092436e-01,\n",
       "         4.66469773e+00, -2.64687967e+00],\n",
       "       [ 1.81771058e+01,  2.73951409e+00,  2.76834435e+00,\n",
       "         2.85977913e+00,  8.07883445e-01,  3.32267145e-01,\n",
       "         1.64307344e+00,  8.69273577e-01],\n",
       "       [-8.01985648e+00, -1.21222085e+00,  9.72439341e+00,\n",
       "        -1.34622651e+00,  6.71490252e+00,  1.80188952e+00,\n",
       "         1.39579632e+00, -1.77658609e+00],\n",
       "       [-5.92768560e+00, -1.70295615e+01, -4.47365210e+00,\n",
       "        -2.10239165e+00, -2.47982926e+00, -2.43778909e+00,\n",
       "         2.36237398e-01,  1.49821220e-01],\n",
       "       [-3.92207928e+00, -1.32653303e+01, -2.57025046e+00,\n",
       "        -4.15308023e-02,  1.25533286e+00,  1.21178692e+00,\n",
       "        -2.37755824e-01, -2.06980519e+00],\n",
       "       [ 1.82755411e+01, -1.32737987e+00,  7.11499629e-01,\n",
       "        -3.60499799e+00, -2.42712487e+00, -2.12886796e+00,\n",
       "         3.43868227e+00, -1.09888554e+00],\n",
       "       [-4.00449762e+00, -1.15103774e+01, -4.74961983e+00,\n",
       "        -1.15422655e+00, -5.92927233e-01,  2.17498628e-01,\n",
       "         1.87295484e+00, -5.29759673e-01],\n",
       "       [-3.68299551e+00,  1.44265778e+01, -4.06736630e+00,\n",
       "         6.47709400e+00,  4.50257259e-01, -3.67572889e+00,\n",
       "         2.17215415e+00,  2.33128712e-01],\n",
       "       [-9.02753572e+00, -5.56121519e-01,  9.35487691e+00,\n",
       "        -2.76763868e+00, -2.17195461e+00,  2.71211821e+00,\n",
       "        -2.84905867e+00,  1.64220612e+00],\n",
       "       [-3.31317619e+00,  1.55429488e+01, -4.67011883e+00,\n",
       "         1.28986502e+00, -9.83750182e-02,  3.25738105e+00,\n",
       "        -1.34427513e+00,  7.93564455e-01],\n",
       "       [-4.44387117e+00,  1.45523028e+01, -5.99972698e+00,\n",
       "         2.45395144e+00, -3.10912019e+00, -1.47916445e+00,\n",
       "        -2.55965421e+00, -7.56753462e-01],\n",
       "       [-2.59219188e+00, -1.46734799e+01, -5.83220441e+00,\n",
       "        -2.93319684e+00,  1.23979830e+00, -2.80203700e+00,\n",
       "        -2.42592205e+00,  1.30397532e+00],\n",
       "       [-8.15777396e+00,  3.31671968e-01,  1.09074503e+01,\n",
       "        -2.08846598e+00,  2.06980833e+00, -3.54561423e-01,\n",
       "        -1.82734967e+00,  1.68737676e+00],\n",
       "       [-5.45434119e+00, -1.38458068e+01, -6.81979561e+00,\n",
       "        -2.12369916e+00, -7.68318222e-01, -1.82397342e+00,\n",
       "         4.53985849e-01,  1.90457695e+00],\n",
       "       [-8.23005764e+00,  2.18855409e-01,  9.13314065e+00,\n",
       "        -1.59475874e+00, -8.05657538e-01,  2.77094413e+00,\n",
       "        -2.32827774e+00,  1.40716433e-01],\n",
       "       [ 1.73014451e+01,  1.95156080e+00,  3.93086190e+00,\n",
       "         1.57200909e+00,  7.33502755e-01,  1.04713505e+00,\n",
       "        -5.59167977e-01,  1.35115229e+00],\n",
       "       [-3.78054473e+00,  1.26832310e+01, -2.63239078e+00,\n",
       "         1.13502719e+00, -4.61686489e+00,  3.63380182e-01,\n",
       "         7.15301620e-01,  9.97565532e-01],\n",
       "       [-7.07439948e+00,  1.59169718e+01, -6.10907166e+00,\n",
       "        -1.95336999e+00,  2.88974780e-01, -3.86086827e-01,\n",
       "        -1.95904079e+00,  7.82003257e-01],\n",
       "       [ 1.86403468e+01, -1.70699867e+00,  2.15271749e+00,\n",
       "        -2.55008723e+00,  2.35434465e+00, -1.54574010e+00,\n",
       "         2.23873429e-01, -3.19097265e-01],\n",
       "       [-4.65884347e+00,  1.41700335e+01, -8.40017278e+00,\n",
       "         3.52769137e-01,  1.65368296e+00, -8.87606911e-01,\n",
       "         8.79126604e-02, -6.81736934e-04],\n",
       "       [-6.93026202e+00,  1.71368293e+01, -4.56674153e+00,\n",
       "        -6.48533484e-01, -3.75438276e+00, -3.10354807e-01,\n",
       "         1.28131093e+00, -2.80277817e-01],\n",
       "       [-1.09004516e+01,  1.89058719e+00,  1.07569156e+01,\n",
       "        -2.53666667e+00,  6.18863675e-01, -3.71075687e-01,\n",
       "         2.25821736e+00,  1.85853983e+00],\n",
       "       [-6.15828329e-01,  1.47602349e+01, -8.68831734e+00,\n",
       "        -3.35929021e+00,  2.55035793e+00, -1.20325286e+00,\n",
       "         2.36607237e-01, -2.32045029e+00],\n",
       "       [-7.76662938e+00,  1.45228458e+01, -7.15312640e+00,\n",
       "        -1.60719650e+00,  5.59775885e-01,  9.43017215e-01,\n",
       "         2.98245468e+00, -1.03723517e+00],\n",
       "       [-8.22744039e+00, -2.66035110e+00,  8.52687118e+00,\n",
       "        -2.11291162e+00, -2.80966399e+00, -3.53897918e+00,\n",
       "        -1.40547570e+00,  2.60734952e+00],\n",
       "       [-7.71061097e+00,  1.14540111e+01, -7.42362797e+00,\n",
       "        -1.97070373e+00, -1.82475062e+00,  1.76037698e+00,\n",
       "         2.35025068e+00,  2.79255729e-01],\n",
       "       [ 1.73197016e+01, -4.07504114e+00,  2.20306168e+00,\n",
       "        -1.28651130e+00,  2.01833065e+00, -7.90214838e-01,\n",
       "         3.14540122e+00, -1.22006606e+00],\n",
       "       [-5.66069706e+00,  4.85620842e-01,  9.45294634e+00,\n",
       "         1.74310449e+00,  6.70810277e-01,  1.03965797e+00,\n",
       "        -1.81062896e+00, -2.68368967e+00],\n",
       "       [-2.52498983e+00, -1.57153591e+01, -7.41688619e+00,\n",
       "        -2.28518032e+00, -1.11431722e+00,  1.49543667e+00,\n",
       "        -8.44949527e-01,  1.91081739e-02],\n",
       "       [-3.46726719e+00, -1.37829174e+01, -4.79052430e+00,\n",
       "        -2.04257800e+00,  6.77084693e-01,  1.44267002e+00,\n",
       "         2.56789197e+00, -3.07609318e+00],\n",
       "       [-6.14802672e+00,  1.68656237e+01, -7.74449330e+00,\n",
       "        -5.34513730e-01,  1.34582158e+00, -2.55823055e+00,\n",
       "         2.49231358e+00,  4.70878903e+00],\n",
       "       [-7.76658009e+00,  1.07927744e+00,  1.37570506e+01,\n",
       "        -1.07227334e-01, -4.31596073e+00,  3.25879903e+00,\n",
       "         1.75127105e+00,  7.48374535e-01],\n",
       "       [ 2.04338713e+01, -3.72827640e+00,  1.60578551e+00,\n",
       "         5.70823682e-01, -1.42237987e+00, -2.82411340e+00,\n",
       "        -2.76743607e+00,  1.27906084e-01],\n",
       "       [-5.20449560e+00, -1.48126401e+01, -7.10163923e+00,\n",
       "        -6.79610713e-01,  9.44353725e-01,  4.03844619e+00,\n",
       "         7.24115453e-01, -3.27520915e-01],\n",
       "       [-9.57986853e+00, -6.28470611e-01,  1.01884331e+01,\n",
       "         6.99515828e-01,  1.30581455e+00,  2.08746350e+00,\n",
       "        -8.74353880e-01,  4.60531768e-01],\n",
       "       [ 2.04077070e+01,  1.03397863e+00,  2.15573374e+00,\n",
       "         4.04151029e+00,  1.62708770e+00,  1.42095242e+00,\n",
       "        -2.27918051e+00,  1.79614234e+00],\n",
       "       [-5.22126976e+00, -1.38102592e+01, -5.09151788e+00,\n",
       "         2.48819298e-01,  6.99133793e-01, -2.06976027e+00,\n",
       "         1.02511443e+00,  1.56138206e+00],\n",
       "       [ 2.00986494e+01,  3.03872568e+00, -1.93433781e+00,\n",
       "         2.53318375e+00,  1.15729689e-01, -1.73541159e+00,\n",
       "        -6.53279096e-01, -3.96589502e+00],\n",
       "       [-8.54308050e+00,  1.25077852e+00,  6.04270891e+00,\n",
       "        -1.27764522e+00, -2.47703439e-01,  7.45231755e-01,\n",
       "         1.87911366e-01,  1.04173054e+00],\n",
       "       [-8.36095724e+00, -1.98091449e-01,  8.80285858e+00,\n",
       "        -1.64997980e+00, -3.38994470e+00,  1.69576837e+00,\n",
       "        -1.74117125e+00, -2.19000934e+00],\n",
       "       [-1.52803530e+00,  1.57815609e+01, -8.35294572e+00,\n",
       "         2.83136112e+00,  2.22852985e+00, -1.32964433e+00,\n",
       "         1.02388516e+00,  1.24478007e-01],\n",
       "       [-4.75766452e+00,  1.28491615e+01, -7.09497770e+00,\n",
       "         2.14957672e+00,  4.81055715e-01, -4.96978222e-01,\n",
       "        -1.12888464e+00, -1.73479569e+00],\n",
       "       [ 1.88243994e+01, -8.40128796e-01,  6.36824230e+00,\n",
       "        -1.47714790e+00,  8.79418076e-02, -4.37976751e-01,\n",
       "         1.96142005e+00,  3.91877006e+00],\n",
       "       [ 1.85106155e+01, -1.56889196e+00,  7.99978062e-01,\n",
       "         3.53371457e+00,  1.08319762e+00,  1.01326566e+00,\n",
       "         2.96888564e+00,  1.85080310e+00],\n",
       "       [-3.95884891e+00,  1.06843634e+01, -5.08455523e+00,\n",
       "         2.13318647e-01,  2.26589057e+00, -4.97879426e-01,\n",
       "        -9.41267520e-01, -1.83161331e+00],\n",
       "       [-1.08609010e+01,  2.96380248e+00,  1.06123947e+01,\n",
       "        -3.48177713e-01, -2.88143141e+00, -7.00722762e-01,\n",
       "        -2.13539146e+00,  2.55679105e+00],\n",
       "       [-1.97862400e+00,  1.42060128e+01, -3.54545971e+00,\n",
       "        -1.54131369e-01,  1.49329684e+00,  5.23546258e-01,\n",
       "        -2.39290884e+00,  1.10987239e+00],\n",
       "       [ 2.23811465e+01, -1.21483305e+00,  2.97658667e+00,\n",
       "         1.40676254e-02, -3.14474898e+00,  3.14823734e+00,\n",
       "        -1.08621525e+00, -3.93536791e-01],\n",
       "       [-8.12504107e+00,  1.49483654e+01, -5.72278748e+00,\n",
       "        -3.68358433e+00, -3.20878648e-01,  1.45266381e+00,\n",
       "         3.24322954e-01, -2.14350144e+00],\n",
       "       [-7.87006118e+00, -1.30230917e+01, -4.07522971e+00,\n",
       "         2.66772885e+00,  1.09550512e+00,  1.53638933e+00,\n",
       "        -7.92143744e-01, -1.89009307e+00],\n",
       "       [-1.12173833e+01, -6.29632484e-01,  1.00731889e+01,\n",
       "         6.33259585e-01, -2.66961418e+00,  2.01881532e-01,\n",
       "         2.29586810e+00,  2.16384362e-01],\n",
       "       [-7.58817650e+00, -1.62640835e+01, -5.33094352e+00,\n",
       "         2.41130159e+00,  1.28158843e+00, -3.07285522e+00,\n",
       "        -8.76121410e-02,  2.25914575e+00],\n",
       "       [ 1.86747638e+01, -6.04454487e-01,  1.89606827e+00,\n",
       "        -1.15689147e+00, -4.26792612e+00,  4.98221105e-01,\n",
       "        -1.77936847e+00, -4.23756086e-01],\n",
       "       [-9.92182802e+00, -2.50552592e+00,  7.12050780e+00,\n",
       "        -4.90729807e-01,  2.42250553e+00, -3.65469895e-01,\n",
       "        -2.87905704e+00,  8.47546007e-01],\n",
       "       [-5.00157216e+00, -1.63283308e+01, -5.65782731e+00,\n",
       "         2.83324391e-01,  2.33037712e-01, -1.76000480e+00,\n",
       "        -8.16725592e-01, -1.42837196e+00],\n",
       "       [-1.03596150e+01,  8.03013819e-01,  8.43198577e+00,\n",
       "        -1.46759954e-01, -1.08841816e+00, -3.22811999e+00,\n",
       "         2.68646165e-01, -6.12269188e-01],\n",
       "       [ 1.87590651e+01, -2.19638160e+00, -1.70715442e+00,\n",
       "        -1.48436063e-01, -1.45089836e+00, -1.01632947e+00,\n",
       "        -7.30444848e-01, -1.34818318e+00],\n",
       "       [-5.66778697e+00, -1.09353940e+01, -3.10228873e+00,\n",
       "         1.46073064e+00, -4.76908555e+00, -2.21343808e+00,\n",
       "        -2.66006123e-01,  2.10848720e+00],\n",
       "       [-1.93713982e+00, -1.25535633e+01, -8.07068625e+00,\n",
       "         1.45533526e+00,  1.36186949e-01,  1.85894321e+00,\n",
       "        -5.40138575e-01,  1.26929378e+00],\n",
       "       [-6.72613607e+00,  1.29436669e+01, -4.78516376e+00,\n",
       "         2.55041411e-01, -4.03154571e+00,  1.38444323e+00,\n",
       "        -4.27797929e-02,  2.34728100e+00],\n",
       "       [ 1.62032686e+01,  5.94527015e-01,  3.47697415e+00,\n",
       "         4.34735927e+00,  2.57348241e+00,  3.65079648e+00,\n",
       "        -1.56548612e+00,  3.85316151e-01],\n",
       "       [-6.85302512e+00, -1.36667943e+01, -8.52594152e+00,\n",
       "        -4.13415781e-01, -1.23013419e+00, -1.30516218e+00,\n",
       "        -1.86493225e+00, -2.37519313e+00],\n",
       "       [-6.99481551e+00, -1.42690366e+01, -6.71979925e+00,\n",
       "        -1.91456935e+00, -5.06980543e+00,  1.72091539e+00,\n",
       "        -2.39098088e-01, -1.86826559e+00],\n",
       "       [ 2.09649467e+01,  2.76392414e+00, -2.60954186e-01,\n",
       "         4.67108468e-01,  1.98642650e+00,  6.30670639e-01,\n",
       "         7.40850345e-02,  6.40416538e-01],\n",
       "       [-1.18143237e+01,  1.97219497e+00,  1.20713440e+01,\n",
       "         2.85948998e+00, -8.34516151e-01,  1.88102416e+00,\n",
       "        -2.41409632e+00,  1.33917784e+00],\n",
       "       [-3.52076150e+00, -1.32348869e+01, -5.29889866e+00,\n",
       "        -7.82780306e-01,  1.48519828e+00,  9.82849620e-01,\n",
       "         1.41521969e+00, -4.65632518e-01],\n",
       "       [-1.02675851e+01,  2.74942726e-01,  9.33191456e+00,\n",
       "        -1.27743784e+00, -2.63358810e+00, -3.02352613e+00,\n",
       "         1.45790351e+00, -3.86839042e+00],\n",
       "       [-4.09072302e+00, -1.46546644e+01, -8.40476788e+00,\n",
       "        -9.28168834e-01,  1.42234129e+00,  3.98078470e+00,\n",
       "         2.43642674e+00,  1.49492555e+00],\n",
       "       [-3.80998659e+00,  9.72410957e+00, -6.21051138e+00,\n",
       "         4.89128483e+00, -1.38566285e-01,  4.04449975e+00,\n",
       "        -8.75549824e-01,  6.89833828e-01],\n",
       "       [-5.25448975e+00, -1.39287792e+01, -6.23747253e+00,\n",
       "        -1.73546986e+00,  3.89234915e+00,  2.78580549e+00,\n",
       "        -2.71118222e-02,  2.69358688e+00],\n",
       "       [-4.89059849e+00, -1.36151142e+01, -1.84343891e+00,\n",
       "         2.45554552e+00,  1.66957239e+00,  9.38620787e-01,\n",
       "        -6.64953025e-02, -7.76990270e-01],\n",
       "       [ 2.07020462e+01,  1.65593036e+00,  2.03973764e+00,\n",
       "        -1.08760360e+00,  1.99355143e-01, -4.37993880e-01,\n",
       "         1.33629638e+00, -5.75210078e-02],\n",
       "       [ 2.12408652e+01, -7.41765784e-02, -2.87878705e+00,\n",
       "         1.64204539e+00,  2.34079669e-01, -5.62260343e-01,\n",
       "         2.12797223e-01,  7.81331830e-01],\n",
       "       [-6.28293544e+00, -1.66426743e+01, -8.01282333e+00,\n",
       "         3.20554898e+00, -2.41317895e+00,  2.35690380e+00,\n",
       "        -1.47208506e+00,  5.48906236e-01],\n",
       "       [ 1.58676113e+01, -5.33843656e-01,  9.27099236e-01,\n",
       "        -2.40718997e+00,  2.34152015e-01,  1.51360509e+00,\n",
       "        -2.59094688e+00,  6.87699273e-01],\n",
       "       [-5.49552524e+00, -1.61949599e+01, -5.90553166e+00,\n",
       "         5.57942164e+00, -2.20931662e+00, -3.63736038e+00,\n",
       "         4.37265364e-02,  1.84650041e+00],\n",
       "       [ 1.75510973e+01, -3.21809126e+00,  3.37204815e+00,\n",
       "        -1.29286762e+00, -4.02616565e+00,  9.91752890e-01,\n",
       "         4.23120407e+00,  4.26764334e-01],\n",
       "       [ 1.79125829e+01,  1.91972564e+00,  3.08998316e+00,\n",
       "         1.92177636e+00, -2.85009638e+00,  8.33595677e-02,\n",
       "        -2.08923032e+00, -1.52364822e+00],\n",
       "       [-4.08135835e+00,  1.54836157e+01, -5.51439138e+00,\n",
       "        -5.87891240e+00,  4.04405996e+00,  5.91189989e-01,\n",
       "         1.14443924e-01,  9.36737604e-01],\n",
       "       [-8.13398813e+00,  2.98748148e+00,  8.97325486e+00,\n",
       "         3.84353605e-01,  7.90505633e-01, -1.65922901e+00,\n",
       "         1.97742027e+00,  2.49330259e+00],\n",
       "       [ 1.91573462e+01, -1.07250115e-01,  2.21663907e+00,\n",
       "         6.89947660e-03, -2.31996581e-01,  1.18452264e+00,\n",
       "        -1.40069163e+00, -2.02126658e+00],\n",
       "       [-6.63110423e+00,  1.53358490e+01, -7.82970776e+00,\n",
       "        -3.53141085e+00,  7.41665388e-01, -1.41921743e+00,\n",
       "        -1.36431641e+00, -1.24126778e+00],\n",
       "       [-7.25293402e+00,  1.49628548e+00,  1.30461388e+01,\n",
       "         4.19005009e-01,  4.30036818e+00, -1.28211868e+00,\n",
       "        -2.14621759e+00,  6.72692095e-01],\n",
       "       [-4.22366161e+00,  1.10750085e+01, -4.01711048e+00,\n",
       "         3.28014146e+00, -1.72544388e+00, -1.40561098e+00,\n",
       "         2.40865972e+00,  2.06040531e+00],\n",
       "       [-7.70620931e+00, -3.25034946e+00,  1.35627475e+01,\n",
       "        -3.29701088e+00,  3.04872882e+00, -1.53499453e+00,\n",
       "        -4.81764236e-01, -4.57898121e-01],\n",
       "       [ 1.98623460e+01, -1.74442933e+00,  3.16545433e+00,\n",
       "        -1.18070241e-01, -1.42890536e+00, -1.87524300e+00,\n",
       "         2.24822134e-01, -1.61827948e+00],\n",
       "       [-7.47209729e+00, -1.00485032e+00,  1.48800712e+01,\n",
       "         7.45535514e+00,  3.70644988e+00, -1.38310517e+00,\n",
       "         7.64168512e-01, -1.39805738e+00],\n",
       "       [-5.21428288e+00,  1.51319913e+01, -7.96601329e+00,\n",
       "         1.09498031e+00,  7.13880417e-01,  6.81518036e-02,\n",
       "        -8.48406753e-01,  8.25601425e-02],\n",
       "       [-4.76609090e+00, -1.19132742e+01, -1.08982051e+01,\n",
       "        -2.92114876e+00,  2.17918041e+00,  6.28821356e-01,\n",
       "         3.36286508e-02,  1.32729563e+00],\n",
       "       [-9.98751283e+00,  1.39309669e+00,  1.20060784e+01,\n",
       "         8.96845606e-01,  1.79781216e-01, -2.77022010e+00,\n",
       "         1.28233778e+00, -1.80165423e+00],\n",
       "       [-4.48342384e+00,  1.58309194e+01, -3.98105113e+00,\n",
       "         1.63813910e+00,  5.41578662e-01, -2.57369209e+00,\n",
       "        -6.45436215e-01, -4.72139251e-01],\n",
       "       [ 1.44963691e+01,  9.81403451e-01,  1.65881282e+00,\n",
       "        -6.61983897e+00,  1.42263949e+00, -3.35229854e+00,\n",
       "        -3.53628073e+00, -1.90329434e-01],\n",
       "       [-6.51433131e+00, -1.30728164e+01, -3.87387823e+00,\n",
       "         3.06006245e+00,  1.19984065e+00, -1.63227532e+00,\n",
       "         2.04603020e+00, -2.40561639e+00],\n",
       "       [ 2.22227773e+01,  3.53952925e+00,  1.15718983e+00,\n",
       "        -4.82737826e-01,  1.01376468e+00,  1.16710296e+00,\n",
       "         1.32837267e+00, -1.01312762e-01],\n",
       "       [-8.06683170e+00,  1.50376142e+00,  9.64588030e+00,\n",
       "        -2.07906071e+00, -5.99647245e-01,  1.95413579e+00,\n",
       "         3.96087619e+00,  5.45324735e-01]])"
      ]
     },
     "execution_count": 31,
     "metadata": {},
     "output_type": "execute_result"
    }
   ],
   "source": [
    "components"
   ]
  },
  {
   "cell_type": "code",
   "execution_count": null,
   "metadata": {},
   "outputs": [],
   "source": []
  }
 ],
 "metadata": {
  "kernelspec": {
   "display_name": "Python 3",
   "language": "python",
   "name": "python3"
  },
  "language_info": {
   "codemirror_mode": {
    "name": "ipython",
    "version": 3
   },
   "file_extension": ".py",
   "mimetype": "text/x-python",
   "name": "python",
   "nbconvert_exporter": "python",
   "pygments_lexer": "ipython3",
   "version": "3.7.0"
  },
  "varInspector": {
   "cols": {
    "lenName": 16,
    "lenType": 16,
    "lenVar": 40
   },
   "kernels_config": {
    "python": {
     "delete_cmd_postfix": "",
     "delete_cmd_prefix": "del ",
     "library": "var_list.py",
     "varRefreshCmd": "print(var_dic_list())"
    },
    "r": {
     "delete_cmd_postfix": ") ",
     "delete_cmd_prefix": "rm(",
     "library": "var_list.r",
     "varRefreshCmd": "cat(var_dic_list()) "
    }
   },
   "types_to_exclude": [
    "module",
    "function",
    "builtin_function_or_method",
    "instance",
    "_Feature"
   ],
   "window_display": false
  }
 },
 "nbformat": 4,
 "nbformat_minor": 2
}
