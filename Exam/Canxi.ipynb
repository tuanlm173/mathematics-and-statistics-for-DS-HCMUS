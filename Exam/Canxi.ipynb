{
 "cells": [
  {
   "cell_type": "code",
   "execution_count": 96,
   "metadata": {
    "ExecuteTime": {
     "end_time": "2019-06-15T07:36:28.581186Z",
     "start_time": "2019-06-15T07:36:28.088840Z"
    }
   },
   "outputs": [],
   "source": [
    "import sys\n",
    "sys.path.insert(\n",
    "    0,\n",
    "    r\"C:\\Users\\DELL\\Desktop\\Math and Stats for DS (CSC)\",\n",
    ")"
   ]
  },
  {
   "cell_type": "code",
   "execution_count": 97,
   "metadata": {
    "ExecuteTime": {
     "end_time": "2019-06-15T07:36:30.624075Z",
     "start_time": "2019-06-15T07:36:29.619692Z"
    }
   },
   "outputs": [],
   "source": [
    "%reload_ext autoreload"
   ]
  },
  {
   "cell_type": "code",
   "execution_count": 98,
   "metadata": {
    "ExecuteTime": {
     "end_time": "2019-06-15T07:36:32.053089Z",
     "start_time": "2019-06-15T07:36:31.407936Z"
    }
   },
   "outputs": [],
   "source": [
    "%autoreload 2"
   ]
  },
  {
   "cell_type": "code",
   "execution_count": 99,
   "metadata": {
    "ExecuteTime": {
     "end_time": "2019-06-15T07:37:31.463399Z",
     "start_time": "2019-06-15T07:37:30.001396Z"
    }
   },
   "outputs": [],
   "source": [
    "from utils import * \n",
    "import OLS_linear_regression as olr"
   ]
  },
  {
   "cell_type": "code",
   "execution_count": 60,
   "metadata": {
    "ExecuteTime": {
     "end_time": "2019-06-15T07:12:56.458200Z",
     "start_time": "2019-06-15T07:12:56.037423Z"
    }
   },
   "outputs": [],
   "source": [
    "import numpy as np\n",
    "import pandas as pd \n",
    "import matplotlib.pyplot as plt\n",
    "import seaborn as sns \n",
    "import scipy.stats as stats"
   ]
  },
  {
   "cell_type": "code",
   "execution_count": 21,
   "metadata": {
    "ExecuteTime": {
     "end_time": "2019-06-15T06:48:16.222503Z",
     "start_time": "2019-06-15T06:48:15.908687Z"
    }
   },
   "outputs": [],
   "source": [
    "# 1. Đọc dữ liệu, xem thông tin dữ liệu\n",
    "data = pd.read_excel('canxi.xlsx')"
   ]
  },
  {
   "cell_type": "code",
   "execution_count": 22,
   "metadata": {
    "ExecuteTime": {
     "end_time": "2019-06-15T06:48:17.449803Z",
     "start_time": "2019-06-15T06:48:17.046288Z"
    }
   },
   "outputs": [
    {
     "data": {
      "text/html": [
       "<div>\n",
       "<style scoped>\n",
       "    .dataframe tbody tr th:only-of-type {\n",
       "        vertical-align: middle;\n",
       "    }\n",
       "\n",
       "    .dataframe tbody tr th {\n",
       "        vertical-align: top;\n",
       "    }\n",
       "\n",
       "    .dataframe thead th {\n",
       "        text-align: right;\n",
       "    }\n",
       "</style>\n",
       "<table border=\"1\" class=\"dataframe\">\n",
       "  <thead>\n",
       "    <tr style=\"text-align: right;\">\n",
       "      <th></th>\n",
       "      <th>response_number</th>\n",
       "      <th>knowledge_score</th>\n",
       "      <th>calcium_intake</th>\n",
       "    </tr>\n",
       "  </thead>\n",
       "  <tbody>\n",
       "    <tr>\n",
       "      <th>0</th>\n",
       "      <td>1</td>\n",
       "      <td>1.0</td>\n",
       "      <td>0.450</td>\n",
       "    </tr>\n",
       "    <tr>\n",
       "      <th>1</th>\n",
       "      <td>2</td>\n",
       "      <td>4.2</td>\n",
       "      <td>1.050</td>\n",
       "    </tr>\n",
       "    <tr>\n",
       "      <th>2</th>\n",
       "      <td>3</td>\n",
       "      <td>3.8</td>\n",
       "      <td>0.900</td>\n",
       "    </tr>\n",
       "    <tr>\n",
       "      <th>3</th>\n",
       "      <td>4</td>\n",
       "      <td>1.5</td>\n",
       "      <td>0.525</td>\n",
       "    </tr>\n",
       "    <tr>\n",
       "      <th>4</th>\n",
       "      <td>5</td>\n",
       "      <td>2.2</td>\n",
       "      <td>0.710</td>\n",
       "    </tr>\n",
       "  </tbody>\n",
       "</table>\n",
       "</div>"
      ],
      "text/plain": [
       "   response_number  knowledge_score  calcium_intake\n",
       "0                1              1.0           0.450\n",
       "1                2              4.2           1.050\n",
       "2                3              3.8           0.900\n",
       "3                4              1.5           0.525\n",
       "4                5              2.2           0.710"
      ]
     },
     "execution_count": 22,
     "metadata": {},
     "output_type": "execute_result"
    }
   ],
   "source": [
    "# head\n",
    "data.head()"
   ]
  },
  {
   "cell_type": "code",
   "execution_count": 23,
   "metadata": {
    "ExecuteTime": {
     "end_time": "2019-06-15T06:48:18.595019Z",
     "start_time": "2019-06-15T06:48:18.208642Z"
    }
   },
   "outputs": [
    {
     "name": "stdout",
     "output_type": "stream",
     "text": [
      "<class 'pandas.core.frame.DataFrame'>\n",
      "RangeIndex: 20 entries, 0 to 19\n",
      "Data columns (total 3 columns):\n",
      "response_number    20 non-null int64\n",
      "knowledge_score    20 non-null float64\n",
      "calcium_intake     20 non-null float64\n",
      "dtypes: float64(2), int64(1)\n",
      "memory usage: 560.0 bytes\n"
     ]
    }
   ],
   "source": [
    "# info\n",
    "data.info()"
   ]
  },
  {
   "cell_type": "code",
   "execution_count": 24,
   "metadata": {
    "ExecuteTime": {
     "end_time": "2019-06-15T06:48:20.405132Z",
     "start_time": "2019-06-15T06:48:19.491584Z"
    }
   },
   "outputs": [
    {
     "data": {
      "image/png": "[encoded data removed]",
      "text/plain": [
       "<Figure size 576x288 with 2 Axes>"
      ]
     },
     "metadata": {
      "needs_background": "light"
     },
     "output_type": "display_data"
    }
   ],
   "source": [
    "# 2. Biểu đồ phân phối tần suất\n",
    "frequency_plot(np.asarray(data[\"knowledge_score\"]))"
   ]
  },
  {
   "cell_type": "markdown",
   "metadata": {},
   "source": [
    "* Phân phối của \"knowledge_score\" khá đều, các điểm dữ liệu tập trung trong khoảng từ 2 đến 5"
   ]
  },
  {
   "cell_type": "code",
   "execution_count": 31,
   "metadata": {
    "ExecuteTime": {
     "end_time": "2019-06-15T06:50:21.372624Z",
     "start_time": "2019-06-15T06:50:20.793998Z"
    }
   },
   "outputs": [
    {
     "name": "stdout",
     "output_type": "stream",
     "text": [
      "0.7850999999999999\n",
      "0.799\n",
      "ModeResult(mode=array([0.45]), count=array([1]))\n",
      "1.085\n",
      "0.45\n",
      "0.635\n",
      "[0.6846  0.74665 0.8514  0.9915 ]\n"
     ]
    }
   ],
   "source": [
    "# 3. Các thống kê cơ bản\n",
    "# 4. Các giá trị ở phân vị thứ 20, 35, 65 90\n",
    "canxi_common_stats = common_statistic_array(np.asarray(data[\"calcium_intake\"]), percentiles=np.array([20, 35, 65, 90]))\n",
    "print(canxi_common_stats[\"mean\"])\n",
    "print(canxi_common_stats[\"median\"])\n",
    "print(canxi_common_stats[\"mode\"])\n",
    "print(canxi_common_stats[\"max\"])\n",
    "print(canxi_common_stats[\"min\"])\n",
    "print(canxi_common_stats[\"range\"])\n",
    "print(canxi_common_stats[\"percentile\"])"
   ]
  },
  {
   "cell_type": "code",
   "execution_count": 49,
   "metadata": {
    "ExecuteTime": {
     "end_time": "2019-06-15T07:04:03.018815Z",
     "start_time": "2019-06-15T07:04:02.288981Z"
    }
   },
   "outputs": [
    {
     "data": {
      "image/png": "[encoded data removed]",
      "text/plain": [
       "<Figure size 432x288 with 1 Axes>"
      ]
     },
     "metadata": {
      "needs_background": "light"
     },
     "output_type": "display_data"
    }
   ],
   "source": [
    "# Plot percentiles\n",
    "plt.plot(np.array([20, 35, 65, 90]), canxi_common_stats[\"percentile\"]/100, marker='D', color='red',\n",
    "         linestyle='none')\n",
    "plt.show()"
   ]
  },
  {
   "cell_type": "code",
   "execution_count": 36,
   "metadata": {
    "ExecuteTime": {
     "end_time": "2019-06-15T06:54:32.726268Z",
     "start_time": "2019-06-15T06:54:32.300111Z"
    }
   },
   "outputs": [
    {
     "name": "stdout",
     "output_type": "stream",
     "text": [
      "2.96\n",
      "2.9\n",
      "ModeResult(mode=array([2.2]), count=array([2]))\n",
      "4.8\n",
      "1.0\n",
      "3.8\n"
     ]
    }
   ],
   "source": [
    "knowledge_score_common_stats = common_statistic_array(np.asarray(data[\"knowledge_score\"]), percentiles=np.array([25,75]))\n",
    "print(knowledge_score_common_stats[\"mean\"])\n",
    "print(knowledge_score_common_stats[\"median\"])\n",
    "print(knowledge_score_common_stats[\"mode\"])\n",
    "print(knowledge_score_common_stats[\"max\"])\n",
    "print(knowledge_score_common_stats[\"min\"])\n",
    "print(knowledge_score_common_stats[\"range\"])"
   ]
  },
  {
   "cell_type": "code",
   "execution_count": 34,
   "metadata": {
    "ExecuteTime": {
     "end_time": "2019-06-15T06:52:07.049480Z",
     "start_time": "2019-06-15T06:52:06.021038Z"
    }
   },
   "outputs": [
    {
     "data": {
      "image/png": "[encoded data removed]",
      "text/plain": [
       "<Figure size 576x432 with 2 Axes>"
      ]
     },
     "metadata": {
      "needs_background": "light"
     },
     "output_type": "display_data"
    }
   ],
   "source": [
    "# 5. Box plot\n",
    "box_plot(data, \"knowledge_score\", \"calcium_intake\")"
   ]
  },
  {
   "cell_type": "markdown",
   "metadata": {},
   "source": [
    "* calcium_intake có 1 giá trị outlier là giá trị nhỏ nhất 0.45"
   ]
  },
  {
   "cell_type": "code",
   "execution_count": 43,
   "metadata": {
    "ExecuteTime": {
     "end_time": "2019-06-15T07:00:32.799728Z",
     "start_time": "2019-06-15T07:00:32.465984Z"
    }
   },
   "outputs": [
    {
     "name": "stdout",
     "output_type": "stream",
     "text": [
      "1.1643999999999999\n"
     ]
    }
   ],
   "source": [
    "# 6. Variance của knowledge_score\n",
    "print(knowledge_score_common_stats[\"var\"])"
   ]
  },
  {
   "cell_type": "code",
   "execution_count": 44,
   "metadata": {
    "ExecuteTime": {
     "end_time": "2019-06-15T07:01:06.224103Z",
     "start_time": "2019-06-15T07:01:05.854000Z"
    }
   },
   "outputs": [
    {
     "name": "stdout",
     "output_type": "stream",
     "text": [
      "0.16997467458418622\n"
     ]
    }
   ],
   "source": [
    "# 7. Standard deviation của calcium_intake\n",
    "print(canxi_common_stats[\"std\"])"
   ]
  },
  {
   "cell_type": "code",
   "execution_count": 46,
   "metadata": {
    "ExecuteTime": {
     "end_time": "2019-06-15T07:01:53.765098Z",
     "start_time": "2019-06-15T07:01:53.327909Z"
    }
   },
   "outputs": [
    {
     "name": "stdout",
     "output_type": "stream",
     "text": [
      "-0.290048256873068\n"
     ]
    }
   ],
   "source": [
    "# 8. Skewness của knowledge_score\n",
    "print(canxi_common_stats[\"skew\"])"
   ]
  },
  {
   "cell_type": "markdown",
   "metadata": {},
   "source": [
    "* Skew < 0 => Phân phối lệch trái"
   ]
  },
  {
   "cell_type": "code",
   "execution_count": 51,
   "metadata": {
    "ExecuteTime": {
     "end_time": "2019-06-15T07:05:29.153408Z",
     "start_time": "2019-06-15T07:05:28.716185Z"
    }
   },
   "outputs": [
    {
     "name": "stdout",
     "output_type": "stream",
     "text": [
      "-0.500617348294564\n",
      "2.499382651705436\n"
     ]
    }
   ],
   "source": [
    "# 9. Kurtosis của knowledge_score\n",
    "print(canxi_common_stats[\"kurtosis\"])\n",
    "print(canxi_common_stats[\"kurtosis_pearson\"])"
   ]
  },
  {
   "cell_type": "markdown",
   "metadata": {},
   "source": [
    "* Với độ nhọn = 3 (theo Pearson) hoặc = 0 (theo Kurtosis) thì sẽ là phân phối chuẩn , ở đây độ nhọn < 3 (<0) => phân bố này tù hơn phân bố chuẩn"
   ]
  },
  {
   "cell_type": "code",
   "execution_count": 54,
   "metadata": {
    "ExecuteTime": {
     "end_time": "2019-06-15T07:09:20.543108Z",
     "start_time": "2019-06-15T07:09:19.612334Z"
    }
   },
   "outputs": [
    {
     "data": {
      "image/png": "[encoded data removed]",
      "text/plain": [
       "<Figure size 576x432 with 1 Axes>"
      ]
     },
     "metadata": {
      "needs_background": "light"
     },
     "output_type": "display_data"
    }
   ],
   "source": [
    "distribution_plot(np.asarray(data[\"knowledge_score\"]), xlabel=\"Distribution\", ylabel=\"knowledge_score\")"
   ]
  },
  {
   "cell_type": "code",
   "execution_count": 86,
   "metadata": {
    "ExecuteTime": {
     "end_time": "2019-06-15T07:24:47.247628Z",
     "start_time": "2019-06-15T07:24:46.759799Z"
    }
   },
   "outputs": [
    {
     "name": "stdout",
     "output_type": "stream",
     "text": [
      "Số lượng mẫu lớn hơn 0.75: 13\n",
      "Xác suất các mẫu có calxium_intake lớn hơn 0.75 ((P(X>0.75))): 0.5818003453743674\n"
     ]
    }
   ],
   "source": [
    "# 10. Số lượng mẫu có giá trị calxium_intake lớn hơn 0.75. \n",
    "canxi_more_than_0_75 = data[data[\"calcium_intake\"] > 0.75][\"calcium_intake\"].tolist()\n",
    "print(\"Số lượng mẫu lớn hơn 0.75: \" + str(len(canxi_more_than_0_75)))\n",
    "print(\"Xác suất các mẫu có calxium_intake lớn hơn 0.75 ((P(X>0.75))): \" + str(1 - stats.norm.cdf(0.75, loc=canxi_common_stats[\"mean\"], scale=canxi_common_stats[\"std\"])))"
   ]
  },
  {
   "cell_type": "code",
   "execution_count": 85,
   "metadata": {
    "ExecuteTime": {
     "end_time": "2019-06-15T07:24:36.521554Z",
     "start_time": "2019-06-15T07:24:36.097899Z"
    }
   },
   "outputs": [
    {
     "data": {
      "text/plain": [
       "'0.5818003453743674'"
      ]
     },
     "execution_count": 85,
     "metadata": {},
     "output_type": "execute_result"
    }
   ],
   "source": [
    "str(1 - stats.norm.cdf(0.75, loc=canxi_common_stats[\"mean\"], scale=canxi_common_stats[\"std\"]))"
   ]
  },
  {
   "cell_type": "code",
   "execution_count": 87,
   "metadata": {
    "ExecuteTime": {
     "end_time": "2019-06-15T07:26:51.345737Z",
     "start_time": "2019-06-15T07:26:50.956782Z"
    }
   },
   "outputs": [
    {
     "name": "stdout",
     "output_type": "stream",
     "text": [
      "Xác suất P(0.65 =< calcium_intake =< 0.85): 0.435345287392095\n"
     ]
    }
   ],
   "source": [
    "# 11. Xác suất P(0.65 =< calcium_intake =< 0.85)\n",
    "p_lower_than_0_65 = stats.norm.cdf(0.65, loc=canxi_common_stats[\"mean\"], scale=canxi_common_stats[\"std\"])\n",
    "p_lower_than_0_85 = stats.norm.cdf(0.85, loc=canxi_common_stats[\"mean\"], scale=canxi_common_stats[\"std\"])\n",
    "print(\"Xác suất P(0.65 =< calcium_intake =< 0.85): \" + str(p_lower_than_0_85 - p_lower_than_0_65))"
   ]
  },
  {
   "cell_type": "code",
   "execution_count": 90,
   "metadata": {
    "ExecuteTime": {
     "end_time": "2019-06-15T07:28:39.128880Z",
     "start_time": "2019-06-15T07:28:38.230640Z"
    }
   },
   "outputs": [
    {
     "data": {
      "image/png": "[encoded data removed]",
      "text/plain": [
       "<Figure size 576x432 with 1 Axes>"
      ]
     },
     "metadata": {
      "needs_background": "light"
     },
     "output_type": "display_data"
    }
   ],
   "source": [
    "# 12. Vẽ biểu đồ tương quan\n",
    "scatter_plot(data[\"knowledge_score\"], data[\"calcium_intake\"], xlabel=\"Knowledge score\", ylabel=\"Calcium intake\")"
   ]
  },
  {
   "cell_type": "code",
   "execution_count": 91,
   "metadata": {
    "ExecuteTime": {
     "end_time": "2019-06-15T07:29:56.289740Z",
     "start_time": "2019-06-15T07:29:55.390773Z"
    }
   },
   "outputs": [
    {
     "data": {
      "text/plain": [
       "<Figure size 576x432 with 0 Axes>"
      ]
     },
     "metadata": {},
     "output_type": "display_data"
    },
    {
     "data": {
      "image/png": "[encoded data removed]",
      "text/plain": [
       "<Figure size 432x432 with 3 Axes>"
      ]
     },
     "metadata": {
      "needs_background": "light"
     },
     "output_type": "display_data"
    }
   ],
   "source": [
    "joint_plot(data, \"knowledge_score\", \"calcium_intake\")"
   ]
  },
  {
   "cell_type": "markdown",
   "metadata": {},
   "source": [
    "* Dựa vào đồ thị, ta thấy 2 đại lượng có mối tương quan tuyến tính. Mặc dù vậy vẫn có những điểm gây nhiễu, chúng ta cần kiểm chứng qua correlation coefficient"
   ]
  },
  {
   "cell_type": "code",
   "execution_count": 95,
   "metadata": {
    "ExecuteTime": {
     "end_time": "2019-06-15T07:33:46.933739Z",
     "start_time": "2019-06-15T07:33:46.412034Z"
    }
   },
   "outputs": [
    {
     "name": "stdout",
     "output_type": "stream",
     "text": [
      "Pearson correlation: 0.88225513799049\n",
      "Spearman correlation: 0.8934894667856549\n"
     ]
    }
   ],
   "source": [
    "coeff_knowledge_canxi = common_statistic_2_arrays(data[\"knowledge_score\"], data[\"calcium_intake\"])\n",
    "print(\"Pearson correlation: \" + str(coeff_knowledge_canxi[0]))\n",
    "print(\"Spearman correlation: \" + str(coeff_knowledge_canxi[1]))"
   ]
  },
  {
   "cell_type": "code",
   "execution_count": 94,
   "metadata": {
    "ExecuteTime": {
     "end_time": "2019-06-15T07:33:22.305532Z",
     "start_time": "2019-06-15T07:33:21.929280Z"
    }
   },
   "outputs": [],
   "source": [
    "# 14. Nhận xét "
   ]
  },
  {
   "cell_type": "markdown",
   "metadata": {},
   "source": [
    "* Cả 2 độ tương quan Pearson và Spearman đều lớn hơn 0.7, lần lượt là 0.88 và 0.89, chứng tỏ mối tương quan của 2 đại lượng là tương quan thuận và tương quan lớn (correlation coefficient gần với 1). Như vậy, ta có thể dựa trên knowledge_score để dự đoán calcium_intake"
   ]
  },
  {
   "cell_type": "code",
   "execution_count": 100,
   "metadata": {
    "ExecuteTime": {
     "end_time": "2019-06-15T07:37:45.977386Z",
     "start_time": "2019-06-15T07:37:45.191535Z"
    }
   },
   "outputs": [],
   "source": [
    "# 15. Dự đoán"
   ]
  },
  {
   "cell_type": "code",
   "execution_count": 109,
   "metadata": {
    "ExecuteTime": {
     "end_time": "2019-06-15T07:40:06.223605Z",
     "start_time": "2019-06-15T07:40:05.579625Z"
    }
   },
   "outputs": [
    {
     "name": "stdout",
     "output_type": "stream",
     "text": [
      "(20, 1)\n",
      "(20,)\n"
     ]
    }
   ],
   "source": [
    "x = np.asarray(data[\"knowledge_score\"])\n",
    "x = x.reshape(x.size, 1)\n",
    "y = np.asarray(data[\"calcium_intake\"])\n",
    "print(x.shape)\n",
    "print(y.shape)"
   ]
  },
  {
   "cell_type": "code",
   "execution_count": 117,
   "metadata": {
    "ExecuteTime": {
     "end_time": "2019-06-15T07:43:08.522488Z",
     "start_time": "2019-06-15T07:43:07.392742Z"
    }
   },
   "outputs": [
    {
     "data": {
      "image/png": "[encoded data removed]",
      "text/plain": [
       "<Figure size 432x288 with 1 Axes>"
      ]
     },
     "metadata": {
      "needs_background": "light"
     },
     "output_type": "display_data"
    }
   ],
   "source": [
    "# 15b. Trực quan hóa dữ liệu\n",
    "ols_lr_builder = olr.OLSLinearRegression()\n",
    "reg = ols_lr_builder.fit(x,y)\n",
    "y_pred = reg.predict(x)\n",
    "\n",
    "plt.scatter(x,y)\n",
    "plt.plot([min(x), max(x)], [min(y_pred), max(y_pred)], color='red')\n",
    "plt.show()"
   ]
  },
  {
   "cell_type": "code",
   "execution_count": 116,
   "metadata": {
    "ExecuteTime": {
     "end_time": "2019-06-15T07:42:26.412128Z",
     "start_time": "2019-06-15T07:42:25.552437Z"
    }
   },
   "outputs": [
    {
     "name": "stdout",
     "output_type": "stream",
     "text": [
      "Giá trị của m: 0.13897200274819646\n",
      "Giá trị của b: 0.3737428718653384\n"
     ]
    }
   ],
   "source": [
    "# 15a. Giải phương trình\n",
    "print(\"Giá trị của m: \" + str(reg.slope[0]))\n",
    "print(\"Giá trị của b: \" + str(reg.intercept[0]))"
   ]
  },
  {
   "cell_type": "code",
   "execution_count": 135,
   "metadata": {
    "ExecuteTime": {
     "end_time": "2019-06-15T07:49:41.281555Z",
     "start_time": "2019-06-15T07:49:40.499877Z"
    }
   },
   "outputs": [
    {
     "name": "stdout",
     "output_type": "stream",
     "text": [
      "Giá trị của knowledge_score lần lượt là: [2.0, 2.7, 3.5, 4.4]\n",
      "Giá trị calcium_intake với knowledge_score đã cho lần lượt là: [0.6516868773617313, 0.7489672792854689, 0.860144881484026, 0.9852196839574029]\n"
     ]
    }
   ],
   "source": [
    "# 15c. tìm calcium_intake dựa vào knowledge_score lần lượt là 2.0, 2.7, 3.5, 4.4\n",
    "x_test = np.array([2.0, 2.7, 3.5, 4.4])\n",
    "y_pred = reg.predict(x_test)\n",
    "print(\"Giá trị của knowledge_score lần lượt là: \" + str([2.0, 2.7, 3.5, 4.4]))\n",
    "print(\"Giá trị calcium_intake với knowledge_score đã cho lần lượt là: \" + str(list(reg.predict(x_test))))"
   ]
  },
  {
   "cell_type": "code",
   "execution_count": null,
   "metadata": {},
   "outputs": [],
   "source": []
  }
 ],
 "metadata": {
  "kernelspec": {
   "display_name": "Python 3",
   "language": "python",
   "name": "python3"
  },
  "language_info": {
   "codemirror_mode": {
    "name": "ipython",
    "version": 3
   },
   "file_extension": ".py",
   "mimetype": "text/x-python",
   "name": "python",
   "nbconvert_exporter": "python",
   "pygments_lexer": "ipython3",
   "version": "3.7.0"
  },
  "varInspector": {
   "cols": {
    "lenName": 16,
    "lenType": 16,
    "lenVar": 40
   },
   "kernels_config": {
    "python": {
     "delete_cmd_postfix": "",
     "delete_cmd_prefix": "del ",
     "library": "var_list.py",
     "varRefreshCmd": "print(var_dic_list())"
    },
    "r": {
     "delete_cmd_postfix": ") ",
     "delete_cmd_prefix": "rm(",
     "library": "var_list.r",
     "varRefreshCmd": "cat(var_dic_list()) "
    }
   },
   "types_to_exclude": [
    "module",
    "function",
    "builtin_function_or_method",
    "instance",
    "_Feature"
   ],
   "window_display": false
  }
 },
 "nbformat": 4,
 "nbformat_minor": 2
}
